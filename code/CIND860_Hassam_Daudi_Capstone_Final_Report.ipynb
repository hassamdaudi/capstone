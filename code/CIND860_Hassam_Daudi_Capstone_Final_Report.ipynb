{
 "cells": [
  {
   "cell_type": "markdown",
   "metadata": {},
   "source": [
    "# Abstract\n",
    "About 1 in 8 women in the U.S. will develop invasive breast cancer over their lifetime. It is estimated that in 2022 around 287,850 new cases of invasive breast cancer will be diagnosed in women, along with 51,400 new cases of non-invasive breast cancer (U.S. Breast Cancer Statistics, 2022). The objective of this project is to identify and predict survivability of a breast cancer patient, based on the age, the stage at diagnosis, treatment type, tumor size and other attributes of the patient and disease. Such a predictive model if used early in the treatment of a patient can help medical professionals and specialists in better planning treatment options for their patients. As such this information can be valuable to a patient, in the early stages of their diagnosis. Using techniques such as Feature Ranking, and Ensemble Learning models, this project will help predict the survivability of a cancer patient. The techniques considered in the project are Forward Selection, Filter Method and Wrapper Method to find the best features in the dataset based on model accuracy. Furthermore, ensemble learning techniques of Bagging and Boosting are used in this project to find the best model to fit the data and answer the question of survivability. Models used in this project are Gradient Boosting and Random Forest, each model is evaluated against each other based on model accuracy. These specific machine learning techniques used in this project can also be transferred to other data, for example predicting customer churn in a business environment, or active user churn for mobile applications and games. These techniques can also be used to predict when a videogame user will convert into a paying user in that game by making a purchase. The tools proposed to be used in this project are Tableau for data exploration and visualization, and Python for the code and modeling of the data. The main questions this project seeks to answer include, what features are most important in predicting mortality in breast cancer patients? Which model produces the highest accuracy given the data available? What role do the patient demographics play in breast cancer survivability? What if a patient died of other causes than breast cancer? Answering these questions will not only help with breast cancer survivability prediction but also the techniques used in this paper will hopefully be translated into an e-commerce setting, to predict customer churn and customer lifetime value.\n",
    "\n",
    "\n",
    "All code and processed data will be uploaded to the GitHub in the following repo: https://github.com/hassamdaudi/860_Capstone "
   ]
  },
  {
   "cell_type": "markdown",
   "metadata": {},
   "source": [
    "# Methodology\n",
    "\n",
    "In this paper the main focus is on Logistic Regression, XGBoost, LightGBM and Randfom Forrest classifiers to evaluate which model performs given the clinical data for breast cancer patients. LazyClassifier has been utilized to run and assess, several ML classification models and rank them by accuracy score. All the models previously mentioned before had accuracy scores of above 70% which is why they were chosen to see what improvement can be made to the model performance. GridSearch was used to find the best possible Accuracy score and Parameters for each model. XBGBoost improved the most after hyperparameter tuning."
   ]
  },
  {
   "cell_type": "markdown",
   "metadata": {},
   "source": [
    "### Dataset\n",
    "The dataset used in this paper is the Breast Cancer Gene Expression Profiles (METABRIC) dataset, which contains 31 clinical attributes and 662 genetic attributes which record m-RNA levels and gene mutations for 1,904 patients across 693 total attributes, and can be accessed here. The Molecular Taxonomy of Breast Cancer International Consortium (METABRIC) database is a Canada-UK Project which contains targeted sequencing data of 1,980 primary breast cancer samples the data is also available from the cBioPortal."
   ]
  },
  {
   "cell_type": "markdown",
   "metadata": {},
   "source": [
    "### Clinical attributes in the dataset\n",
    "_______________________________________________________________________________________________________________________________\n",
    "\n",
    "| Name                           | Type   | Description |\n",
    "|--------------------------------|--------|-------------|\n",
    "| patient_id                     | object | Patient ID  |\n",
    "| age_at_diagnosis               | float  |    Age of the patient at diagnosis time         |\n",
    "| type_of_breast_surgery         | object | Breast cancer surgery type: 1-  MASTECTOMY, which refers to a surgery to remove all breast tissue from a breast as a way to treat or prevent breast cancer.  2- BREAST CONSERVING, which refers to a urgery where only the part of the breast that has cancer is removed     |\n",
    "| cancer_type                    | object | Breast cancer types: 1- Breast Cancer or  2- Breast Sarcoma           |\n",
    "| cancer_type_detailed           | object | Detailed Breast cancer types: 1- Breast Invasive Ductal Carcinoma 2- Breast Mixed Ductal and Lobular Carcinoma 3- Breast Invasive Lobular Carcinoma  4- Breast Invasive Mixed Mucinous Carcinoma 5- Metaplastic Breast Cancer   |\n",
    "| cellularity                    | object | Cancer cellularity post chemotherapy, which refers to the amount of tumor cells in the specimen and their arrangement into clusters         |\n",
    "| chemotherapy                   | int    |  Whether or not the patient had chemotherapy as a treatment (yes/no)    |\n",
    "| pam50_+_claudin-low_subtype    | object |  Pam 50: is a tumor profiling test that helps show whether some estrogen receptor-positive (ER-positive), HER2-negative breast cancers are likely to metastasize (when breast cancer spreads to other organs). The claudin-low breast cancer subtype is defined by gene expression characteristics, most prominently: Low expression of cell–cell adhesion genes, high expression of epithelial–mesenchymal transition (EMT) genes, and stem cell-like/less differentiated gene expression patterns       |\n",
    "| cohort                         | float  |  Cohort is a group of subjects who share a defining characteristic (It takes a value from 1 to 5)        |\n",
    "| er_status_measured_by_ihc      | float  |  To assess if estrogen receptors are expressed on cancer cells by using immune-histochemistry (a dye used in pathology that targets specific antigen, if it is there, it will give a color, it is not there, the tissue on the slide will be colored)  (positive/negative)         |\n",
    "| er_status                      | object |   Cancer cells are positive or negative for estrogen receptors          |\n",
    "| neoplasm_histologic_grade      | int  |  Determined by pathology by looking the nature of the cells, do they look aggressive or not  (It takes a value from 1 to 3)         |\n",
    "| her2_status_measured_by_snp6   | object | To assess if the cancer positive for HER2 or not by using advance molecular techniques (Type of next generation sequencing)       |\n",
    "| her2_status                    | object |   Whether the cancer is positive or negative for HER2          |\n",
    "| tumor_other_histologic_subtype | object |  Type of the cancer based on microscopic examination of the cancer tissue (It takes a value of  'Ductal/NST', 'Mixed', 'Lobular', 'Tubular/ cribriform', 'Mucinous', 'Medullary', 'Other', 'Metaplastic'  )      |\n",
    "| hormone_therapy                | int |   Whether or not the patient had hormonal as a treatment (yes/no)           |\n",
    "| inferred_menopausal_state      | object |  Whether the patient is  is post menopausal or not   (post/pre)        |\n",
    "| integrative_cluster            | object | Molecular subtype of the cancer based on some gene expression (It takes a value from '4ER+', '3', '9', '7', '4ER-', '5', '8', '10', '1', '2', '6')            |\n",
    "| primary_tumor_laterality       | object |   Whether it is involving the right breast or the left breast           |\n",
    "| lymph_nodes_examined_positive  | float  |  To take samples of the lymph node during the surgery and see if there were involved by the cancer            |\n",
    "| mutation_count                 | float  |  Number of gene that has relevant mutations            |\n",
    "| nottingham_prognostic_index    | float  |   It is used to determine prognosis following surgery for breast cancer. Its value is calculated using three pathological criteria: the size of the tumour; the number of involved lymph nodes; and the grade of the tumour.          |\n",
    "| oncotree_code                  | object |  The OncoTree is an open-source ontology that was developed at Memorial Sloan Kettering Cancer Center (MSK) for standardizing cancer type diagnosis from a clinical perspective by assigning each diagnosis a unique OncoTree code.           |\n",
    "| overall_survival_months        | float  |  Duration from the time of the intervention to death        |\n",
    "| overall_survival               | object |   Target variable wether the patient is alive of dead.          |\n",
    "| pr_status                      | object |    Cancer cells are positive or negative for progesterone  receptors          |\n",
    "| radio_therapy                  | int    | Whether or not the patient had radio as a treatment (yes/no)             |\n",
    "| 3-gene_classifier_subtype      | object | Three Gene classifier subtype It takes a value from 'ER-/HER2-', 'ER+/HER2- High Prolif', nan, 'ER+/HER2- Low Prolif','HER2+'           |\n",
    "| tumor_size                     | float  | Tumor size measured by imaging techniques            |\n",
    "| tumor_stage                    | float  | Stage of the cancer based on the involvement of surrounding structures, lymph nodes and distant spread          |\n",
    "| death_from_cancer              | int  |  Wether the patient's death was due to cancer or not (yes/no)           |\n",
    "    "
   ]
  },
  {
   "cell_type": "markdown",
   "metadata": {},
   "source": [
    "### Importing libraries, data and cleaning data"
   ]
  },
  {
   "cell_type": "code",
   "execution_count": 162,
   "metadata": {},
   "outputs": [],
   "source": [
    "import pandas as pd\n",
    "import numpy as np\n",
    "import seaborn as sns\n",
    "from matplotlib import pyplot\n",
    "from matplotlib.colors import ListedColormap\n",
    "\n",
    "from sklearn.model_selection import train_test_split\n",
    "from sklearn.neural_network import MLPClassifier\n",
    "from sklearn.metrics import accuracy_score\n",
    "\n",
    "import tensorflow as tf\n",
    "import keras\n",
    "import numpy as np\n",
    "from keras import layers\n",
    "from keras import models as md\n",
    "from keras import layers\n",
    "from keras import optimizers\n",
    "from keras.utils import np_utils\n",
    "\n",
    "from scipy.stats import normaltest, skew\n",
    "from sklearn.preprocessing import OneHotEncoder, LabelEncoder, StandardScaler\n",
    "from sklearn.metrics import r2_score, median_absolute_error, mean_absolute_error, accuracy_score, f1_score\n",
    "from sklearn.metrics import median_absolute_error, mean_squared_error, mean_squared_log_error\n",
    "from sklearn.metrics import classification_report, confusion_matrix\n",
    "from scipy.special import boxcox, inv_boxcox\n",
    "\n",
    "from sklearn.linear_model import LogisticRegression, LogisticRegressionCV\n",
    "from sklearn.model_selection import train_test_split, cross_val_score, GridSearchCV, StratifiedKFold, cross_val_predict,  KFold\n",
    "from sklearn.neighbors import KNeighborsClassifier\n",
    "from sklearn.linear_model import LogisticRegression\n",
    "from sklearn.tree import DecisionTreeClassifier\n",
    "from sklearn.ensemble import RandomForestClassifier\n",
    "from sklearn.ensemble import ExtraTreesClassifier\n",
    "from sklearn.ensemble import AdaBoostClassifier\n",
    "import lightgbm as lgb\n",
    "\n",
    "from sklearn.svm import SVC\n",
    "from sklearn.metrics import roc_curve, auc\n",
    "from sklearn.decomposition import PCA\n",
    "from scipy.stats import zscore\n",
    "from itertools import combinations\n",
    "from xgboost.sklearn import XGBClassifier\n",
    "from sklearn.ensemble import IsolationForest\n",
    "import kmapper as km\n",
    "from sklearn.cluster import KMeans\n",
    "\n",
    "\n",
    "import warnings\n",
    "warnings.filterwarnings(\"ignore\")"
   ]
  },
  {
   "cell_type": "code",
   "execution_count": 163,
   "metadata": {},
   "outputs": [
    {
     "data": {
      "text/html": [
       "<div>\n",
       "<style scoped>\n",
       "    .dataframe tbody tr th:only-of-type {\n",
       "        vertical-align: middle;\n",
       "    }\n",
       "\n",
       "    .dataframe tbody tr th {\n",
       "        vertical-align: top;\n",
       "    }\n",
       "\n",
       "    .dataframe thead th {\n",
       "        text-align: right;\n",
       "    }\n",
       "</style>\n",
       "<table border=\"1\" class=\"dataframe\">\n",
       "  <thead>\n",
       "    <tr style=\"text-align: right;\">\n",
       "      <th></th>\n",
       "      <th>patient_id</th>\n",
       "      <th>age_at_diagnosis</th>\n",
       "      <th>type_of_breast_surgery</th>\n",
       "      <th>cancer_type</th>\n",
       "      <th>cancer_type_detailed</th>\n",
       "      <th>cellularity</th>\n",
       "      <th>chemotherapy</th>\n",
       "      <th>pam50_+_claudin-low_subtype</th>\n",
       "      <th>cohort</th>\n",
       "      <th>er_status_measured_by_ihc</th>\n",
       "      <th>...</th>\n",
       "      <th>mtap_mut</th>\n",
       "      <th>ppp2cb_mut</th>\n",
       "      <th>smarcd1_mut</th>\n",
       "      <th>nras_mut</th>\n",
       "      <th>ndfip1_mut</th>\n",
       "      <th>hras_mut</th>\n",
       "      <th>prps2_mut</th>\n",
       "      <th>smarcb1_mut</th>\n",
       "      <th>stmn2_mut</th>\n",
       "      <th>siah1_mut</th>\n",
       "    </tr>\n",
       "  </thead>\n",
       "  <tbody>\n",
       "    <tr>\n",
       "      <th>0</th>\n",
       "      <td>0</td>\n",
       "      <td>75.65</td>\n",
       "      <td>MASTECTOMY</td>\n",
       "      <td>Breast Cancer</td>\n",
       "      <td>Breast Invasive Ductal Carcinoma</td>\n",
       "      <td>NaN</td>\n",
       "      <td>0</td>\n",
       "      <td>claudin-low</td>\n",
       "      <td>1.00</td>\n",
       "      <td>Positve</td>\n",
       "      <td>...</td>\n",
       "      <td>0</td>\n",
       "      <td>0</td>\n",
       "      <td>0</td>\n",
       "      <td>0</td>\n",
       "      <td>0</td>\n",
       "      <td>0</td>\n",
       "      <td>0</td>\n",
       "      <td>0</td>\n",
       "      <td>0</td>\n",
       "      <td>0</td>\n",
       "    </tr>\n",
       "    <tr>\n",
       "      <th>1</th>\n",
       "      <td>2</td>\n",
       "      <td>43.19</td>\n",
       "      <td>BREAST CONSERVING</td>\n",
       "      <td>Breast Cancer</td>\n",
       "      <td>Breast Invasive Ductal Carcinoma</td>\n",
       "      <td>High</td>\n",
       "      <td>0</td>\n",
       "      <td>LumA</td>\n",
       "      <td>1.00</td>\n",
       "      <td>Positve</td>\n",
       "      <td>...</td>\n",
       "      <td>0</td>\n",
       "      <td>0</td>\n",
       "      <td>0</td>\n",
       "      <td>0</td>\n",
       "      <td>0</td>\n",
       "      <td>0</td>\n",
       "      <td>0</td>\n",
       "      <td>0</td>\n",
       "      <td>0</td>\n",
       "      <td>0</td>\n",
       "    </tr>\n",
       "    <tr>\n",
       "      <th>2</th>\n",
       "      <td>5</td>\n",
       "      <td>48.87</td>\n",
       "      <td>MASTECTOMY</td>\n",
       "      <td>Breast Cancer</td>\n",
       "      <td>Breast Invasive Ductal Carcinoma</td>\n",
       "      <td>High</td>\n",
       "      <td>1</td>\n",
       "      <td>LumB</td>\n",
       "      <td>1.00</td>\n",
       "      <td>Positve</td>\n",
       "      <td>...</td>\n",
       "      <td>0</td>\n",
       "      <td>0</td>\n",
       "      <td>0</td>\n",
       "      <td>0</td>\n",
       "      <td>0</td>\n",
       "      <td>0</td>\n",
       "      <td>0</td>\n",
       "      <td>0</td>\n",
       "      <td>0</td>\n",
       "      <td>0</td>\n",
       "    </tr>\n",
       "    <tr>\n",
       "      <th>3</th>\n",
       "      <td>6</td>\n",
       "      <td>47.68</td>\n",
       "      <td>MASTECTOMY</td>\n",
       "      <td>Breast Cancer</td>\n",
       "      <td>Breast Mixed Ductal and Lobular Carcinoma</td>\n",
       "      <td>Moderate</td>\n",
       "      <td>1</td>\n",
       "      <td>LumB</td>\n",
       "      <td>1.00</td>\n",
       "      <td>Positve</td>\n",
       "      <td>...</td>\n",
       "      <td>0</td>\n",
       "      <td>0</td>\n",
       "      <td>0</td>\n",
       "      <td>0</td>\n",
       "      <td>0</td>\n",
       "      <td>0</td>\n",
       "      <td>0</td>\n",
       "      <td>0</td>\n",
       "      <td>0</td>\n",
       "      <td>0</td>\n",
       "    </tr>\n",
       "    <tr>\n",
       "      <th>4</th>\n",
       "      <td>8</td>\n",
       "      <td>76.97</td>\n",
       "      <td>MASTECTOMY</td>\n",
       "      <td>Breast Cancer</td>\n",
       "      <td>Breast Mixed Ductal and Lobular Carcinoma</td>\n",
       "      <td>High</td>\n",
       "      <td>1</td>\n",
       "      <td>LumB</td>\n",
       "      <td>1.00</td>\n",
       "      <td>Positve</td>\n",
       "      <td>...</td>\n",
       "      <td>0</td>\n",
       "      <td>0</td>\n",
       "      <td>0</td>\n",
       "      <td>0</td>\n",
       "      <td>0</td>\n",
       "      <td>0</td>\n",
       "      <td>0</td>\n",
       "      <td>0</td>\n",
       "      <td>0</td>\n",
       "      <td>0</td>\n",
       "    </tr>\n",
       "  </tbody>\n",
       "</table>\n",
       "<p>5 rows × 693 columns</p>\n",
       "</div>"
      ],
      "text/plain": [
       "   patient_id  age_at_diagnosis type_of_breast_surgery    cancer_type  \\\n",
       "0           0             75.65             MASTECTOMY  Breast Cancer   \n",
       "1           2             43.19      BREAST CONSERVING  Breast Cancer   \n",
       "2           5             48.87             MASTECTOMY  Breast Cancer   \n",
       "3           6             47.68             MASTECTOMY  Breast Cancer   \n",
       "4           8             76.97             MASTECTOMY  Breast Cancer   \n",
       "\n",
       "                        cancer_type_detailed cellularity  chemotherapy  \\\n",
       "0           Breast Invasive Ductal Carcinoma         NaN             0   \n",
       "1           Breast Invasive Ductal Carcinoma        High             0   \n",
       "2           Breast Invasive Ductal Carcinoma        High             1   \n",
       "3  Breast Mixed Ductal and Lobular Carcinoma    Moderate             1   \n",
       "4  Breast Mixed Ductal and Lobular Carcinoma        High             1   \n",
       "\n",
       "  pam50_+_claudin-low_subtype  cohort er_status_measured_by_ihc  ... mtap_mut  \\\n",
       "0                 claudin-low    1.00                   Positve  ...        0   \n",
       "1                        LumA    1.00                   Positve  ...        0   \n",
       "2                        LumB    1.00                   Positve  ...        0   \n",
       "3                        LumB    1.00                   Positve  ...        0   \n",
       "4                        LumB    1.00                   Positve  ...        0   \n",
       "\n",
       "   ppp2cb_mut smarcd1_mut nras_mut ndfip1_mut  hras_mut prps2_mut smarcb1_mut  \\\n",
       "0           0           0        0          0         0         0           0   \n",
       "1           0           0        0          0         0         0           0   \n",
       "2           0           0        0          0         0         0           0   \n",
       "3           0           0        0          0         0         0           0   \n",
       "4           0           0        0          0         0         0           0   \n",
       "\n",
       "  stmn2_mut  siah1_mut  \n",
       "0         0          0  \n",
       "1         0          0  \n",
       "2         0          0  \n",
       "3         0          0  \n",
       "4         0          0  \n",
       "\n",
       "[5 rows x 693 columns]"
      ]
     },
     "execution_count": 163,
     "metadata": {},
     "output_type": "execute_result"
    }
   ],
   "source": [
    "df = pd.read_csv(\"METABRIC_RNA_Mutation.csv\", low_memory=False)\n",
    "df.head()"
   ]
  },
  {
   "cell_type": "code",
   "execution_count": 164,
   "metadata": {},
   "outputs": [
    {
     "name": "stdout",
     "output_type": "stream",
     "text": [
      "There are 1904 rows and 693 columns in the dataframe\n"
     ]
    }
   ],
   "source": [
    "nrows, ncols = df.shape\n",
    "print(f'There are {nrows} rows and {ncols} columns in the dataframe')"
   ]
  },
  {
   "cell_type": "code",
   "execution_count": 165,
   "metadata": {},
   "outputs": [
    {
     "data": {
      "text/html": [
       "<div>\n",
       "<style scoped>\n",
       "    .dataframe tbody tr th:only-of-type {\n",
       "        vertical-align: middle;\n",
       "    }\n",
       "\n",
       "    .dataframe tbody tr th {\n",
       "        vertical-align: top;\n",
       "    }\n",
       "\n",
       "    .dataframe thead th {\n",
       "        text-align: right;\n",
       "    }\n",
       "</style>\n",
       "<table border=\"1\" class=\"dataframe\">\n",
       "  <thead>\n",
       "    <tr style=\"text-align: right;\">\n",
       "      <th></th>\n",
       "      <th>Total Missing</th>\n",
       "      <th>Percent Missing</th>\n",
       "    </tr>\n",
       "  </thead>\n",
       "  <tbody>\n",
       "    <tr>\n",
       "      <th>tumor_stage</th>\n",
       "      <td>501</td>\n",
       "      <td>0.26</td>\n",
       "    </tr>\n",
       "    <tr>\n",
       "      <th>3-gene_classifier_subtype</th>\n",
       "      <td>204</td>\n",
       "      <td>0.11</td>\n",
       "    </tr>\n",
       "    <tr>\n",
       "      <th>primary_tumor_laterality</th>\n",
       "      <td>106</td>\n",
       "      <td>0.06</td>\n",
       "    </tr>\n",
       "    <tr>\n",
       "      <th>neoplasm_histologic_grade</th>\n",
       "      <td>72</td>\n",
       "      <td>0.04</td>\n",
       "    </tr>\n",
       "    <tr>\n",
       "      <th>cellularity</th>\n",
       "      <td>54</td>\n",
       "      <td>0.03</td>\n",
       "    </tr>\n",
       "    <tr>\n",
       "      <th>mutation_count</th>\n",
       "      <td>45</td>\n",
       "      <td>0.02</td>\n",
       "    </tr>\n",
       "    <tr>\n",
       "      <th>er_status_measured_by_ihc</th>\n",
       "      <td>30</td>\n",
       "      <td>0.02</td>\n",
       "    </tr>\n",
       "    <tr>\n",
       "      <th>type_of_breast_surgery</th>\n",
       "      <td>22</td>\n",
       "      <td>0.01</td>\n",
       "    </tr>\n",
       "    <tr>\n",
       "      <th>tumor_size</th>\n",
       "      <td>20</td>\n",
       "      <td>0.01</td>\n",
       "    </tr>\n",
       "    <tr>\n",
       "      <th>cancer_type_detailed</th>\n",
       "      <td>15</td>\n",
       "      <td>0.01</td>\n",
       "    </tr>\n",
       "    <tr>\n",
       "      <th>tumor_other_histologic_subtype</th>\n",
       "      <td>15</td>\n",
       "      <td>0.01</td>\n",
       "    </tr>\n",
       "    <tr>\n",
       "      <th>oncotree_code</th>\n",
       "      <td>15</td>\n",
       "      <td>0.01</td>\n",
       "    </tr>\n",
       "    <tr>\n",
       "      <th>death_from_cancer</th>\n",
       "      <td>1</td>\n",
       "      <td>0.00</td>\n",
       "    </tr>\n",
       "    <tr>\n",
       "      <th>mmp13</th>\n",
       "      <td>0</td>\n",
       "      <td>0.00</td>\n",
       "    </tr>\n",
       "    <tr>\n",
       "      <th>mlst8</th>\n",
       "      <td>0</td>\n",
       "      <td>0.00</td>\n",
       "    </tr>\n",
       "  </tbody>\n",
       "</table>\n",
       "</div>"
      ],
      "text/plain": [
       "                                Total Missing  Percent Missing\n",
       "tumor_stage                               501             0.26\n",
       "3-gene_classifier_subtype                 204             0.11\n",
       "primary_tumor_laterality                  106             0.06\n",
       "neoplasm_histologic_grade                  72             0.04\n",
       "cellularity                                54             0.03\n",
       "mutation_count                             45             0.02\n",
       "er_status_measured_by_ihc                  30             0.02\n",
       "type_of_breast_surgery                     22             0.01\n",
       "tumor_size                                 20             0.01\n",
       "cancer_type_detailed                       15             0.01\n",
       "tumor_other_histologic_subtype             15             0.01\n",
       "oncotree_code                              15             0.01\n",
       "death_from_cancer                           1             0.00\n",
       "mmp13                                       0             0.00\n",
       "mlst8                                       0             0.00"
      ]
     },
     "execution_count": 165,
     "metadata": {},
     "output_type": "execute_result"
    }
   ],
   "source": [
    "## Checking missiig values in the dataset\n",
    "\n",
    "total = df.isnull().sum().sort_values(ascending = False)\n",
    "percent = (df.isnull().sum() / df.isnull().count()).sort_values(ascending=False)\n",
    "missing_data = pd.DataFrame(pd.concat([total, percent], axis = 1, keys = ['Total Missing', 'Percent Missing']))\n",
    "missing_data.head(15)"
   ]
  },
  {
   "cell_type": "code",
   "execution_count": 166,
   "metadata": {},
   "outputs": [
    {
     "data": {
      "text/html": [
       "<div>\n",
       "<style scoped>\n",
       "    .dataframe tbody tr th:only-of-type {\n",
       "        vertical-align: middle;\n",
       "    }\n",
       "\n",
       "    .dataframe tbody tr th {\n",
       "        vertical-align: top;\n",
       "    }\n",
       "\n",
       "    .dataframe thead th {\n",
       "        text-align: right;\n",
       "    }\n",
       "</style>\n",
       "<table border=\"1\" class=\"dataframe\">\n",
       "  <thead>\n",
       "    <tr style=\"text-align: right;\">\n",
       "      <th></th>\n",
       "      <th>patient_id</th>\n",
       "      <th>age_at_diagnosis</th>\n",
       "      <th>type_of_breast_surgery</th>\n",
       "      <th>cancer_type</th>\n",
       "      <th>cancer_type_detailed</th>\n",
       "      <th>cellularity</th>\n",
       "      <th>chemotherapy</th>\n",
       "      <th>pam50_+_claudin-low_subtype</th>\n",
       "      <th>cohort</th>\n",
       "      <th>er_status_measured_by_ihc</th>\n",
       "      <th>...</th>\n",
       "      <th>nottingham_prognostic_index</th>\n",
       "      <th>oncotree_code</th>\n",
       "      <th>overall_survival_months</th>\n",
       "      <th>overall_survival</th>\n",
       "      <th>pr_status</th>\n",
       "      <th>radio_therapy</th>\n",
       "      <th>3-gene_classifier_subtype</th>\n",
       "      <th>tumor_size</th>\n",
       "      <th>tumor_stage</th>\n",
       "      <th>death_from_cancer</th>\n",
       "    </tr>\n",
       "  </thead>\n",
       "  <tbody>\n",
       "    <tr>\n",
       "      <th>0</th>\n",
       "      <td>0</td>\n",
       "      <td>75.65</td>\n",
       "      <td>MASTECTOMY</td>\n",
       "      <td>Breast Cancer</td>\n",
       "      <td>Breast Invasive Ductal Carcinoma</td>\n",
       "      <td>NaN</td>\n",
       "      <td>0</td>\n",
       "      <td>claudin-low</td>\n",
       "      <td>1.00</td>\n",
       "      <td>Positve</td>\n",
       "      <td>...</td>\n",
       "      <td>6.04</td>\n",
       "      <td>IDC</td>\n",
       "      <td>140.50</td>\n",
       "      <td>1</td>\n",
       "      <td>Negative</td>\n",
       "      <td>1</td>\n",
       "      <td>ER-/HER2-</td>\n",
       "      <td>22.00</td>\n",
       "      <td>2.00</td>\n",
       "      <td>Living</td>\n",
       "    </tr>\n",
       "    <tr>\n",
       "      <th>1</th>\n",
       "      <td>2</td>\n",
       "      <td>43.19</td>\n",
       "      <td>BREAST CONSERVING</td>\n",
       "      <td>Breast Cancer</td>\n",
       "      <td>Breast Invasive Ductal Carcinoma</td>\n",
       "      <td>High</td>\n",
       "      <td>0</td>\n",
       "      <td>LumA</td>\n",
       "      <td>1.00</td>\n",
       "      <td>Positve</td>\n",
       "      <td>...</td>\n",
       "      <td>4.02</td>\n",
       "      <td>IDC</td>\n",
       "      <td>84.63</td>\n",
       "      <td>1</td>\n",
       "      <td>Positive</td>\n",
       "      <td>1</td>\n",
       "      <td>ER+/HER2- High Prolif</td>\n",
       "      <td>10.00</td>\n",
       "      <td>1.00</td>\n",
       "      <td>Living</td>\n",
       "    </tr>\n",
       "    <tr>\n",
       "      <th>2</th>\n",
       "      <td>5</td>\n",
       "      <td>48.87</td>\n",
       "      <td>MASTECTOMY</td>\n",
       "      <td>Breast Cancer</td>\n",
       "      <td>Breast Invasive Ductal Carcinoma</td>\n",
       "      <td>High</td>\n",
       "      <td>1</td>\n",
       "      <td>LumB</td>\n",
       "      <td>1.00</td>\n",
       "      <td>Positve</td>\n",
       "      <td>...</td>\n",
       "      <td>4.03</td>\n",
       "      <td>IDC</td>\n",
       "      <td>163.70</td>\n",
       "      <td>0</td>\n",
       "      <td>Positive</td>\n",
       "      <td>0</td>\n",
       "      <td>NaN</td>\n",
       "      <td>15.00</td>\n",
       "      <td>2.00</td>\n",
       "      <td>Died of Disease</td>\n",
       "    </tr>\n",
       "    <tr>\n",
       "      <th>3</th>\n",
       "      <td>6</td>\n",
       "      <td>47.68</td>\n",
       "      <td>MASTECTOMY</td>\n",
       "      <td>Breast Cancer</td>\n",
       "      <td>Breast Mixed Ductal and Lobular Carcinoma</td>\n",
       "      <td>Moderate</td>\n",
       "      <td>1</td>\n",
       "      <td>LumB</td>\n",
       "      <td>1.00</td>\n",
       "      <td>Positve</td>\n",
       "      <td>...</td>\n",
       "      <td>4.05</td>\n",
       "      <td>MDLC</td>\n",
       "      <td>164.93</td>\n",
       "      <td>1</td>\n",
       "      <td>Positive</td>\n",
       "      <td>1</td>\n",
       "      <td>NaN</td>\n",
       "      <td>25.00</td>\n",
       "      <td>2.00</td>\n",
       "      <td>Living</td>\n",
       "    </tr>\n",
       "    <tr>\n",
       "      <th>4</th>\n",
       "      <td>8</td>\n",
       "      <td>76.97</td>\n",
       "      <td>MASTECTOMY</td>\n",
       "      <td>Breast Cancer</td>\n",
       "      <td>Breast Mixed Ductal and Lobular Carcinoma</td>\n",
       "      <td>High</td>\n",
       "      <td>1</td>\n",
       "      <td>LumB</td>\n",
       "      <td>1.00</td>\n",
       "      <td>Positve</td>\n",
       "      <td>...</td>\n",
       "      <td>6.08</td>\n",
       "      <td>MDLC</td>\n",
       "      <td>41.37</td>\n",
       "      <td>0</td>\n",
       "      <td>Positive</td>\n",
       "      <td>1</td>\n",
       "      <td>ER+/HER2- High Prolif</td>\n",
       "      <td>40.00</td>\n",
       "      <td>2.00</td>\n",
       "      <td>Died of Disease</td>\n",
       "    </tr>\n",
       "  </tbody>\n",
       "</table>\n",
       "<p>5 rows × 31 columns</p>\n",
       "</div>"
      ],
      "text/plain": [
       "   patient_id  age_at_diagnosis type_of_breast_surgery    cancer_type  \\\n",
       "0           0             75.65             MASTECTOMY  Breast Cancer   \n",
       "1           2             43.19      BREAST CONSERVING  Breast Cancer   \n",
       "2           5             48.87             MASTECTOMY  Breast Cancer   \n",
       "3           6             47.68             MASTECTOMY  Breast Cancer   \n",
       "4           8             76.97             MASTECTOMY  Breast Cancer   \n",
       "\n",
       "                        cancer_type_detailed cellularity  chemotherapy  \\\n",
       "0           Breast Invasive Ductal Carcinoma         NaN             0   \n",
       "1           Breast Invasive Ductal Carcinoma        High             0   \n",
       "2           Breast Invasive Ductal Carcinoma        High             1   \n",
       "3  Breast Mixed Ductal and Lobular Carcinoma    Moderate             1   \n",
       "4  Breast Mixed Ductal and Lobular Carcinoma        High             1   \n",
       "\n",
       "  pam50_+_claudin-low_subtype  cohort er_status_measured_by_ihc  ...  \\\n",
       "0                 claudin-low    1.00                   Positve  ...   \n",
       "1                        LumA    1.00                   Positve  ...   \n",
       "2                        LumB    1.00                   Positve  ...   \n",
       "3                        LumB    1.00                   Positve  ...   \n",
       "4                        LumB    1.00                   Positve  ...   \n",
       "\n",
       "  nottingham_prognostic_index  oncotree_code overall_survival_months  \\\n",
       "0                        6.04            IDC                  140.50   \n",
       "1                        4.02            IDC                   84.63   \n",
       "2                        4.03            IDC                  163.70   \n",
       "3                        4.05           MDLC                  164.93   \n",
       "4                        6.08           MDLC                   41.37   \n",
       "\n",
       "  overall_survival pr_status  radio_therapy 3-gene_classifier_subtype  \\\n",
       "0                1  Negative              1                 ER-/HER2-   \n",
       "1                1  Positive              1     ER+/HER2- High Prolif   \n",
       "2                0  Positive              0                       NaN   \n",
       "3                1  Positive              1                       NaN   \n",
       "4                0  Positive              1     ER+/HER2- High Prolif   \n",
       "\n",
       "  tumor_size tumor_stage  death_from_cancer  \n",
       "0      22.00        2.00             Living  \n",
       "1      10.00        1.00             Living  \n",
       "2      15.00        2.00    Died of Disease  \n",
       "3      25.00        2.00             Living  \n",
       "4      40.00        2.00    Died of Disease  \n",
       "\n",
       "[5 rows x 31 columns]"
      ]
     },
     "execution_count": 166,
     "metadata": {},
     "output_type": "execute_result"
    }
   ],
   "source": [
    "## Extracting clinical features from the cleaned dataframe\n",
    "\n",
    "clinical_features = df.iloc[:, :31]\n",
    "clinical_features.head()"
   ]
  },
  {
   "cell_type": "markdown",
   "metadata": {},
   "source": [
    "### Exploratory Analysis of Clinical Features"
   ]
  },
  {
   "cell_type": "markdown",
   "metadata": {},
   "source": [
    "* Dataframe Shape"
   ]
  },
  {
   "cell_type": "code",
   "execution_count": 167,
   "metadata": {},
   "outputs": [
    {
     "name": "stdout",
     "output_type": "stream",
     "text": [
      "There are 1904 rows and 31 columns in the dataframe\n"
     ]
    }
   ],
   "source": [
    "nrows, ncols = clinical_features.shape\n",
    "print(f'There are {nrows} rows and {ncols} columns in the dataframe')"
   ]
  },
  {
   "cell_type": "markdown",
   "metadata": {},
   "source": [
    "* Dataframe Info"
   ]
  },
  {
   "cell_type": "code",
   "execution_count": 168,
   "metadata": {},
   "outputs": [
    {
     "name": "stdout",
     "output_type": "stream",
     "text": [
      "<class 'pandas.core.frame.DataFrame'>\n",
      "RangeIndex: 1904 entries, 0 to 1903\n",
      "Data columns (total 31 columns):\n",
      " #   Column                          Non-Null Count  Dtype  \n",
      "---  ------                          --------------  -----  \n",
      " 0   patient_id                      1904 non-null   int64  \n",
      " 1   age_at_diagnosis                1904 non-null   float64\n",
      " 2   type_of_breast_surgery          1882 non-null   object \n",
      " 3   cancer_type                     1904 non-null   object \n",
      " 4   cancer_type_detailed            1889 non-null   object \n",
      " 5   cellularity                     1850 non-null   object \n",
      " 6   chemotherapy                    1904 non-null   int64  \n",
      " 7   pam50_+_claudin-low_subtype     1904 non-null   object \n",
      " 8   cohort                          1904 non-null   float64\n",
      " 9   er_status_measured_by_ihc       1874 non-null   object \n",
      " 10  er_status                       1904 non-null   object \n",
      " 11  neoplasm_histologic_grade       1832 non-null   float64\n",
      " 12  her2_status_measured_by_snp6    1904 non-null   object \n",
      " 13  her2_status                     1904 non-null   object \n",
      " 14  tumor_other_histologic_subtype  1889 non-null   object \n",
      " 15  hormone_therapy                 1904 non-null   int64  \n",
      " 16  inferred_menopausal_state       1904 non-null   object \n",
      " 17  integrative_cluster             1904 non-null   object \n",
      " 18  primary_tumor_laterality        1798 non-null   object \n",
      " 19  lymph_nodes_examined_positive   1904 non-null   float64\n",
      " 20  mutation_count                  1859 non-null   float64\n",
      " 21  nottingham_prognostic_index     1904 non-null   float64\n",
      " 22  oncotree_code                   1889 non-null   object \n",
      " 23  overall_survival_months         1904 non-null   float64\n",
      " 24  overall_survival                1904 non-null   int64  \n",
      " 25  pr_status                       1904 non-null   object \n",
      " 26  radio_therapy                   1904 non-null   int64  \n",
      " 27  3-gene_classifier_subtype       1700 non-null   object \n",
      " 28  tumor_size                      1884 non-null   float64\n",
      " 29  tumor_stage                     1403 non-null   float64\n",
      " 30  death_from_cancer               1903 non-null   object \n",
      "dtypes: float64(9), int64(5), object(17)\n",
      "memory usage: 461.2+ KB\n"
     ]
    }
   ],
   "source": [
    "clinical_features.info()"
   ]
  },
  {
   "cell_type": "markdown",
   "metadata": {},
   "source": [
    "* Descriptive statistics of numerical columns, without patient_id"
   ]
  },
  {
   "cell_type": "code",
   "execution_count": 169,
   "metadata": {},
   "outputs": [
    {
     "data": {
      "text/html": [
       "<div>\n",
       "<style scoped>\n",
       "    .dataframe tbody tr th:only-of-type {\n",
       "        vertical-align: middle;\n",
       "    }\n",
       "\n",
       "    .dataframe tbody tr th {\n",
       "        vertical-align: top;\n",
       "    }\n",
       "\n",
       "    .dataframe thead th {\n",
       "        text-align: right;\n",
       "    }\n",
       "</style>\n",
       "<table border=\"1\" class=\"dataframe\">\n",
       "  <thead>\n",
       "    <tr style=\"text-align: right;\">\n",
       "      <th></th>\n",
       "      <th>count</th>\n",
       "      <th>mean</th>\n",
       "      <th>std</th>\n",
       "      <th>min</th>\n",
       "      <th>25%</th>\n",
       "      <th>50%</th>\n",
       "      <th>75%</th>\n",
       "      <th>max</th>\n",
       "    </tr>\n",
       "  </thead>\n",
       "  <tbody>\n",
       "    <tr>\n",
       "      <th>age_at_diagnosis</th>\n",
       "      <td>1904.00</td>\n",
       "      <td>61.09</td>\n",
       "      <td>12.98</td>\n",
       "      <td>21.93</td>\n",
       "      <td>51.38</td>\n",
       "      <td>61.77</td>\n",
       "      <td>70.59</td>\n",
       "      <td>96.29</td>\n",
       "    </tr>\n",
       "    <tr>\n",
       "      <th>chemotherapy</th>\n",
       "      <td>1904.00</td>\n",
       "      <td>0.21</td>\n",
       "      <td>0.41</td>\n",
       "      <td>0.00</td>\n",
       "      <td>0.00</td>\n",
       "      <td>0.00</td>\n",
       "      <td>0.00</td>\n",
       "      <td>1.00</td>\n",
       "    </tr>\n",
       "    <tr>\n",
       "      <th>cohort</th>\n",
       "      <td>1904.00</td>\n",
       "      <td>2.64</td>\n",
       "      <td>1.23</td>\n",
       "      <td>1.00</td>\n",
       "      <td>1.00</td>\n",
       "      <td>3.00</td>\n",
       "      <td>3.00</td>\n",
       "      <td>5.00</td>\n",
       "    </tr>\n",
       "    <tr>\n",
       "      <th>neoplasm_histologic_grade</th>\n",
       "      <td>1832.00</td>\n",
       "      <td>2.42</td>\n",
       "      <td>0.65</td>\n",
       "      <td>1.00</td>\n",
       "      <td>2.00</td>\n",
       "      <td>3.00</td>\n",
       "      <td>3.00</td>\n",
       "      <td>3.00</td>\n",
       "    </tr>\n",
       "    <tr>\n",
       "      <th>hormone_therapy</th>\n",
       "      <td>1904.00</td>\n",
       "      <td>0.62</td>\n",
       "      <td>0.49</td>\n",
       "      <td>0.00</td>\n",
       "      <td>0.00</td>\n",
       "      <td>1.00</td>\n",
       "      <td>1.00</td>\n",
       "      <td>1.00</td>\n",
       "    </tr>\n",
       "    <tr>\n",
       "      <th>lymph_nodes_examined_positive</th>\n",
       "      <td>1904.00</td>\n",
       "      <td>2.00</td>\n",
       "      <td>4.08</td>\n",
       "      <td>0.00</td>\n",
       "      <td>0.00</td>\n",
       "      <td>0.00</td>\n",
       "      <td>2.00</td>\n",
       "      <td>45.00</td>\n",
       "    </tr>\n",
       "    <tr>\n",
       "      <th>mutation_count</th>\n",
       "      <td>1859.00</td>\n",
       "      <td>5.70</td>\n",
       "      <td>4.06</td>\n",
       "      <td>1.00</td>\n",
       "      <td>3.00</td>\n",
       "      <td>5.00</td>\n",
       "      <td>7.00</td>\n",
       "      <td>80.00</td>\n",
       "    </tr>\n",
       "    <tr>\n",
       "      <th>nottingham_prognostic_index</th>\n",
       "      <td>1904.00</td>\n",
       "      <td>4.03</td>\n",
       "      <td>1.14</td>\n",
       "      <td>1.00</td>\n",
       "      <td>3.05</td>\n",
       "      <td>4.04</td>\n",
       "      <td>5.04</td>\n",
       "      <td>6.36</td>\n",
       "    </tr>\n",
       "    <tr>\n",
       "      <th>overall_survival_months</th>\n",
       "      <td>1904.00</td>\n",
       "      <td>125.12</td>\n",
       "      <td>76.33</td>\n",
       "      <td>0.00</td>\n",
       "      <td>60.83</td>\n",
       "      <td>115.62</td>\n",
       "      <td>184.72</td>\n",
       "      <td>355.20</td>\n",
       "    </tr>\n",
       "    <tr>\n",
       "      <th>overall_survival</th>\n",
       "      <td>1904.00</td>\n",
       "      <td>0.42</td>\n",
       "      <td>0.49</td>\n",
       "      <td>0.00</td>\n",
       "      <td>0.00</td>\n",
       "      <td>0.00</td>\n",
       "      <td>1.00</td>\n",
       "      <td>1.00</td>\n",
       "    </tr>\n",
       "    <tr>\n",
       "      <th>radio_therapy</th>\n",
       "      <td>1904.00</td>\n",
       "      <td>0.60</td>\n",
       "      <td>0.49</td>\n",
       "      <td>0.00</td>\n",
       "      <td>0.00</td>\n",
       "      <td>1.00</td>\n",
       "      <td>1.00</td>\n",
       "      <td>1.00</td>\n",
       "    </tr>\n",
       "    <tr>\n",
       "      <th>tumor_size</th>\n",
       "      <td>1884.00</td>\n",
       "      <td>26.24</td>\n",
       "      <td>15.16</td>\n",
       "      <td>1.00</td>\n",
       "      <td>17.00</td>\n",
       "      <td>23.00</td>\n",
       "      <td>30.00</td>\n",
       "      <td>182.00</td>\n",
       "    </tr>\n",
       "    <tr>\n",
       "      <th>tumor_stage</th>\n",
       "      <td>1403.00</td>\n",
       "      <td>1.75</td>\n",
       "      <td>0.63</td>\n",
       "      <td>0.00</td>\n",
       "      <td>1.00</td>\n",
       "      <td>2.00</td>\n",
       "      <td>2.00</td>\n",
       "      <td>4.00</td>\n",
       "    </tr>\n",
       "  </tbody>\n",
       "</table>\n",
       "</div>"
      ],
      "text/plain": [
       "                                count   mean   std   min   25%    50%    75%  \\\n",
       "age_at_diagnosis              1904.00  61.09 12.98 21.93 51.38  61.77  70.59   \n",
       "chemotherapy                  1904.00   0.21  0.41  0.00  0.00   0.00   0.00   \n",
       "cohort                        1904.00   2.64  1.23  1.00  1.00   3.00   3.00   \n",
       "neoplasm_histologic_grade     1832.00   2.42  0.65  1.00  2.00   3.00   3.00   \n",
       "hormone_therapy               1904.00   0.62  0.49  0.00  0.00   1.00   1.00   \n",
       "lymph_nodes_examined_positive 1904.00   2.00  4.08  0.00  0.00   0.00   2.00   \n",
       "mutation_count                1859.00   5.70  4.06  1.00  3.00   5.00   7.00   \n",
       "nottingham_prognostic_index   1904.00   4.03  1.14  1.00  3.05   4.04   5.04   \n",
       "overall_survival_months       1904.00 125.12 76.33  0.00 60.83 115.62 184.72   \n",
       "overall_survival              1904.00   0.42  0.49  0.00  0.00   0.00   1.00   \n",
       "radio_therapy                 1904.00   0.60  0.49  0.00  0.00   1.00   1.00   \n",
       "tumor_size                    1884.00  26.24 15.16  1.00 17.00  23.00  30.00   \n",
       "tumor_stage                   1403.00   1.75  0.63  0.00  1.00   2.00   2.00   \n",
       "\n",
       "                                 max  \n",
       "age_at_diagnosis               96.29  \n",
       "chemotherapy                    1.00  \n",
       "cohort                          5.00  \n",
       "neoplasm_histologic_grade       3.00  \n",
       "hormone_therapy                 1.00  \n",
       "lymph_nodes_examined_positive  45.00  \n",
       "mutation_count                 80.00  \n",
       "nottingham_prognostic_index     6.36  \n",
       "overall_survival_months       355.20  \n",
       "overall_survival                1.00  \n",
       "radio_therapy                   1.00  \n",
       "tumor_size                    182.00  \n",
       "tumor_stage                     4.00  "
      ]
     },
     "execution_count": 169,
     "metadata": {},
     "output_type": "execute_result"
    }
   ],
   "source": [
    "## GATHERING COLUMN NAMES FOR NUMERICAL FEATURES\n",
    "numerical_columns = clinical_features.select_dtypes(include=['int64','float64']).columns.tolist()\n",
    "numerical_columns.remove('patient_id')\n",
    "\n",
    "## SELECTING NUMERICAL ONLY FEATURES FROM DATAFRAME\n",
    "numerical_features = clinical_features[numerical_columns]\n",
    "\n",
    "numerical_features.describe(). T"
   ]
  },
  {
   "cell_type": "markdown",
   "metadata": {},
   "source": [
    "* Dropping the *patient_id* column, since it will no longer be neede for further analysis"
   ]
  },
  {
   "cell_type": "code",
   "execution_count": 170,
   "metadata": {},
   "outputs": [],
   "source": [
    "clinical_features = clinical_features.drop(['patient_id'],axis=1) # dropping patient_id"
   ]
  },
  {
   "cell_type": "markdown",
   "metadata": {},
   "source": [
    "* Checking the distriution of data for slected numerical columns of interest based on patient survival"
   ]
  },
  {
   "cell_type": "code",
   "execution_count": 171,
   "metadata": {},
   "outputs": [
    {
     "data": {
      "application/javascript": [
       "\n",
       "        if (window._pyforest_update_imports_cell) { window._pyforest_update_imports_cell('import matplotlib.pyplot as plt'); }\n",
       "    "
      ],
      "text/plain": [
       "<IPython.core.display.Javascript object>"
      ]
     },
     "metadata": {},
     "output_type": "display_data"
    },
    {
     "data": {
      "application/javascript": [
       "\n",
       "        if (window._pyforest_update_imports_cell) { window._pyforest_update_imports_cell('import matplotlib.pyplot as plt'); }\n",
       "    "
      ],
      "text/plain": [
       "<IPython.core.display.Javascript object>"
      ]
     },
     "metadata": {},
     "output_type": "display_data"
    },
    {
     "data": {
      "application/javascript": [
       "\n",
       "        if (window._pyforest_update_imports_cell) { window._pyforest_update_imports_cell('import matplotlib.pyplot as plt'); }\n",
       "    "
      ],
      "text/plain": [
       "<IPython.core.display.Javascript object>"
      ]
     },
     "metadata": {},
     "output_type": "display_data"
    },
    {
     "data": {
      "application/javascript": [
       "\n",
       "        if (window._pyforest_update_imports_cell) { window._pyforest_update_imports_cell('import matplotlib.pyplot as plt'); }\n",
       "    "
      ],
      "text/plain": [
       "<IPython.core.display.Javascript object>"
      ]
     },
     "metadata": {},
     "output_type": "display_data"
    },
    {
     "data": {
      "application/javascript": [
       "\n",
       "        if (window._pyforest_update_imports_cell) { window._pyforest_update_imports_cell('import matplotlib.pyplot as plt'); }\n",
       "    "
      ],
      "text/plain": [
       "<IPython.core.display.Javascript object>"
      ]
     },
     "metadata": {},
     "output_type": "display_data"
    },
    {
     "data": {
      "application/javascript": [
       "\n",
       "        if (window._pyforest_update_imports_cell) { window._pyforest_update_imports_cell('import matplotlib.pyplot as plt'); }\n",
       "    "
      ],
      "text/plain": [
       "<IPython.core.display.Javascript object>"
      ]
     },
     "metadata": {},
     "output_type": "display_data"
    },
    {
     "data": {
      "application/javascript": [
       "\n",
       "        if (window._pyforest_update_imports_cell) { window._pyforest_update_imports_cell('import matplotlib.pyplot as plt'); }\n",
       "    "
      ],
      "text/plain": [
       "<IPython.core.display.Javascript object>"
      ]
     },
     "metadata": {},
     "output_type": "display_data"
    },
    {
     "data": {
      "application/javascript": [
       "\n",
       "        if (window._pyforest_update_imports_cell) { window._pyforest_update_imports_cell('import matplotlib.pyplot as plt'); }\n",
       "    "
      ],
      "text/plain": [
       "<IPython.core.display.Javascript object>"
      ]
     },
     "metadata": {},
     "output_type": "display_data"
    },
    {
     "data": {
      "application/javascript": [
       "\n",
       "        if (window._pyforest_update_imports_cell) { window._pyforest_update_imports_cell('import matplotlib.pyplot as plt'); }\n",
       "    "
      ],
      "text/plain": [
       "<IPython.core.display.Javascript object>"
      ]
     },
     "metadata": {},
     "output_type": "display_data"
    },
    {
     "data": {
      "application/javascript": [
       "\n",
       "        if (window._pyforest_update_imports_cell) { window._pyforest_update_imports_cell('import matplotlib.pyplot as plt'); }\n",
       "    "
      ],
      "text/plain": [
       "<IPython.core.display.Javascript object>"
      ]
     },
     "metadata": {},
     "output_type": "display_data"
    },
    {
     "data": {
      "application/javascript": [
       "\n",
       "        if (window._pyforest_update_imports_cell) { window._pyforest_update_imports_cell('import matplotlib.pyplot as plt'); }\n",
       "    "
      ],
      "text/plain": [
       "<IPython.core.display.Javascript object>"
      ]
     },
     "metadata": {},
     "output_type": "display_data"
    },
    {
     "data": {
      "application/javascript": [
       "\n",
       "        if (window._pyforest_update_imports_cell) { window._pyforest_update_imports_cell('import matplotlib.pyplot as plt'); }\n",
       "    "
      ],
      "text/plain": [
       "<IPython.core.display.Javascript object>"
      ]
     },
     "metadata": {},
     "output_type": "display_data"
    },
    {
     "data": {
      "application/javascript": [
       "\n",
       "        if (window._pyforest_update_imports_cell) { window._pyforest_update_imports_cell('import matplotlib.pyplot as plt'); }\n",
       "    "
      ],
      "text/plain": [
       "<IPython.core.display.Javascript object>"
      ]
     },
     "metadata": {},
     "output_type": "display_data"
    },
    {
     "data": {
      "application/javascript": [
       "\n",
       "        if (window._pyforest_update_imports_cell) { window._pyforest_update_imports_cell('import matplotlib.pyplot as plt'); }\n",
       "    "
      ],
      "text/plain": [
       "<IPython.core.display.Javascript object>"
      ]
     },
     "metadata": {},
     "output_type": "display_data"
    },
    {
     "data": {
      "application/javascript": [
       "\n",
       "        if (window._pyforest_update_imports_cell) { window._pyforest_update_imports_cell('import matplotlib.pyplot as plt'); }\n",
       "    "
      ],
      "text/plain": [
       "<IPython.core.display.Javascript object>"
      ]
     },
     "metadata": {},
     "output_type": "display_data"
    },
    {
     "data": {
      "application/javascript": [
       "\n",
       "        if (window._pyforest_update_imports_cell) { window._pyforest_update_imports_cell('import matplotlib.pyplot as plt'); }\n",
       "    "
      ],
      "text/plain": [
       "<IPython.core.display.Javascript object>"
      ]
     },
     "metadata": {},
     "output_type": "display_data"
    },
    {
     "data": {
      "image/png": "[encoded data removed]",
      "text/plain": [
       "<Figure size 1440x2160 with 7 Axes>"
      ]
     },
     "metadata": {
      "needs_background": "light"
     },
     "output_type": "display_data"
    }
   ],
   "source": [
    "fig = plt.figure(figsize = (20, 30))\n",
    "j = 0\n",
    "num_clinical_columns= ['age_at_diagnosis',\n",
    "                       'cohort',\n",
    "                       'lymph_nodes_examined_positive',\n",
    "                       'mutation_count',\n",
    "                       'nottingham_prognostic_index',\n",
    "                       'overall_survival_months',\n",
    "                       'tumor_size',\n",
    "                       ]\n",
    "\n",
    "for i in clinical_features[num_clinical_columns].columns:\n",
    "    plt.subplot(5, 2, j+1)\n",
    "    j += 1\n",
    "    sns.distplot(clinical_features[i][clinical_features['overall_survival']==1], color='b', label = 'Living')\n",
    "    sns.distplot(clinical_features[i][clinical_features['overall_survival']==0], color='r', label = 'Dead')\n",
    "    plt.legend()\n",
    "fig.suptitle('Clinical Data Exploratory Analysis', fontsize = 18)\n",
    "\n",
    "fig.subplots_adjust(top=0.95)\n",
    "plt.show()"
   ]
  },
  {
   "cell_type": "markdown",
   "metadata": {},
   "source": [
    "Trends to note in the image above:\n",
    "* When it comes to Patient age, the older the patient the worse the chances of survival\n",
    "* The longer the overall survival months for a patient, the higher the chances of them surviving\n",
    "* Tumor size doesn't seem to have an impact on the survival of the patient, as both the patients who survied and those who died, seem to have the same distribution\n",
    "* Patients belonging to Cohort #3 have the worse survival rate"
   ]
  },
  {
   "cell_type": "markdown",
   "metadata": {},
   "source": [
    "The dataset also contains information for patients who eventually dies but not from cancer, therefore the data will be split between patients who died and their cause of death, in order to determine if those who survived longer still died of cancer"
   ]
  },
  {
   "cell_type": "code",
   "execution_count": 172,
   "metadata": {},
   "outputs": [],
   "source": [
    "living = clinical_features[clinical_features['death_from_cancer']=='Living']\n",
    "died_cancer = clinical_features[clinical_features['death_from_cancer']=='Died of Disease']\n",
    "died_not_cancer = clinical_features[clinical_features['death_from_cancer']=='Died of Other Causes']"
   ]
  },
  {
   "cell_type": "code",
   "execution_count": 173,
   "metadata": {},
   "outputs": [
    {
     "data": {
      "application/javascript": [
       "\n",
       "        if (window._pyforest_update_imports_cell) { window._pyforest_update_imports_cell('import matplotlib.pyplot as plt'); }\n",
       "    "
      ],
      "text/plain": [
       "<IPython.core.display.Javascript object>"
      ]
     },
     "metadata": {},
     "output_type": "display_data"
    },
    {
     "data": {
      "application/javascript": [
       "\n",
       "        if (window._pyforest_update_imports_cell) { window._pyforest_update_imports_cell('import matplotlib.pyplot as plt'); }\n",
       "    "
      ],
      "text/plain": [
       "<IPython.core.display.Javascript object>"
      ]
     },
     "metadata": {},
     "output_type": "display_data"
    },
    {
     "data": {
      "application/javascript": [
       "\n",
       "        if (window._pyforest_update_imports_cell) { window._pyforest_update_imports_cell('import matplotlib.pyplot as plt'); }\n",
       "    "
      ],
      "text/plain": [
       "<IPython.core.display.Javascript object>"
      ]
     },
     "metadata": {},
     "output_type": "display_data"
    },
    {
     "data": {
      "image/png": "[encoded data removed]",
      "text/plain": [
       "<Figure size 576x576 with 1 Axes>"
      ]
     },
     "metadata": {
      "needs_background": "light"
     },
     "output_type": "display_data"
    }
   ],
   "source": [
    "fig, ax = plt.subplots(ncols=1, figsize=(8,8), sharey=True)\n",
    "\n",
    "sns.distplot(living['overall_survival_months'], color = sns.color_palette(\"pastel\")[2], label = 'Living')\n",
    "sns.distplot(died_cancer['overall_survival_months'], color=sns.color_palette(\"pastel\")[0], label = 'Died of Cancer')\n",
    "sns.distplot(died_not_cancer['overall_survival_months'], color=sns.color_palette()[0], label = 'Died of Other Causes')\n",
    "fig.suptitle('Distribution of Survial by Duration', fontsize = 18)\n",
    "plt.legend()\n",
    "plt.show()"
   ]
  },
  {
   "cell_type": "markdown",
   "metadata": {},
   "source": [
    "Splitting the data by cause of death results in similar shape to the previous image where the data was split by overall_survival and overall_survival_months. \n",
    "\n",
    "However, if we look at the patients who died of other causes they seem to have survived longer than those who died of cancer. Furthermore, the shorther the survival months, the higher the chances of the patient actually dying of cancer"
   ]
  },
  {
   "cell_type": "code",
   "execution_count": 174,
   "metadata": {},
   "outputs": [
    {
     "data": {
      "application/javascript": [
       "\n",
       "        if (window._pyforest_update_imports_cell) { window._pyforest_update_imports_cell('import matplotlib.pyplot as plt'); }\n",
       "    "
      ],
      "text/plain": [
       "<IPython.core.display.Javascript object>"
      ]
     },
     "metadata": {},
     "output_type": "display_data"
    },
    {
     "data": {
      "application/javascript": [
       "\n",
       "        if (window._pyforest_update_imports_cell) { window._pyforest_update_imports_cell('import matplotlib.pyplot as plt'); }\n",
       "    "
      ],
      "text/plain": [
       "<IPython.core.display.Javascript object>"
      ]
     },
     "metadata": {},
     "output_type": "display_data"
    },
    {
     "data": {
      "application/javascript": [
       "\n",
       "        if (window._pyforest_update_imports_cell) { window._pyforest_update_imports_cell('import matplotlib.pyplot as plt'); }\n",
       "    "
      ],
      "text/plain": [
       "<IPython.core.display.Javascript object>"
      ]
     },
     "metadata": {},
     "output_type": "display_data"
    },
    {
     "data": {
      "image/png": "[encoded data removed]",
      "text/plain": [
       "<Figure size 1440x576 with 2 Axes>"
      ]
     },
     "metadata": {
      "needs_background": "light"
     },
     "output_type": "display_data"
    }
   ],
   "source": [
    "fig, ax = plt.subplots(ncols=2, figsize=(20,8), sharey=True)\n",
    " \n",
    "sns.boxplot(x='age_at_diagnosis', y='overall_survival', orient='h', data = clinical_features,ax=ax[0])\n",
    "sns.boxplot(x='overall_survival_months', y='overall_survival', orient='h', data = clinical_features,ax=ax[1])\n",
    "plt.yticks([0, 1], ['Died', 'Living'])\n",
    "fig.suptitle('The Distribution of Age and Survival', fontsize = 18)\n",
    "plt.show()"
   ]
  },
  {
   "cell_type": "markdown",
   "metadata": {},
   "source": [
    "The box plot distribution above does a better job at highlighting the trend\n",
    "* The mean age of those who \"Survived\" is smaller than those who \"Died\"\n",
    "* Similarly the mean survival length of those who died, is much smaller than those who survied"
   ]
  },
  {
   "cell_type": "markdown",
   "metadata": {},
   "source": [
    "Splitting the dataset into two categories, 'Died' and 'Survived' to analyse any trends between the two, and then to see if treatment type has any effect on patient survival"
   ]
  },
  {
   "cell_type": "code",
   "execution_count": 175,
   "metadata": {},
   "outputs": [],
   "source": [
    "died = clinical_features[clinical_features['overall_survival']==0]\n",
    "survived = clinical_features[clinical_features['overall_survival']==1]"
   ]
  },
  {
   "cell_type": "code",
   "execution_count": 176,
   "metadata": {},
   "outputs": [
    {
     "data": {
      "application/javascript": [
       "\n",
       "        if (window._pyforest_update_imports_cell) { window._pyforest_update_imports_cell('import matplotlib.pyplot as plt'); }\n",
       "    "
      ],
      "text/plain": [
       "<IPython.core.display.Javascript object>"
      ]
     },
     "metadata": {},
     "output_type": "display_data"
    },
    {
     "data": {
      "application/javascript": [
       "\n",
       "        if (window._pyforest_update_imports_cell) { window._pyforest_update_imports_cell('import matplotlib.pyplot as plt'); }\n",
       "    "
      ],
      "text/plain": [
       "<IPython.core.display.Javascript object>"
      ]
     },
     "metadata": {},
     "output_type": "display_data"
    },
    {
     "data": {
      "image/png": "[encoded data removed]",
      "text/plain": [
       "<Figure size 1080x576 with 3 Axes>"
      ]
     },
     "metadata": {
      "needs_background": "light"
     },
     "output_type": "display_data"
    }
   ],
   "source": [
    "## plotting patient survival by treatment type\n",
    "\n",
    "fig, ax = plt.subplots(ncols=3, figsize=(15,8), sharey=True)\n",
    "\n",
    "sns.countplot(x=\"chemotherapy\", data=died, color='gray', ax=ax[0], label='Died')\n",
    "sns.countplot(x=\"chemotherapy\", data=survived,color='red',ax=ax[0], label='Survived')\n",
    "ax[0].set(xticklabels=['No','Yes'])\n",
    "ax[0].set_ylabel('Number of Patients')\n",
    "ax[0].set_xlabel('Chemotherapy')\n",
    "ax[0].legend()\n",
    "\n",
    "sns.countplot(x=\"radio_therapy\", data=died,color='gray',ax=ax[1])\n",
    "sns.countplot(x=\"radio_therapy\", data=survived,color='red',ax=ax[1])\n",
    "ax[1].set(xticklabels=['No','Yes'])\n",
    "ax[1].set_xlabel('Radio Therapy')\n",
    "ax[1].set_ylabel('')\n",
    "\n",
    "sns.countplot(x=\"hormone_therapy\", data=died,color='gray',ax=ax[2])\n",
    "sns.countplot(x=\"hormone_therapy\", data=survived,color='red',ax=ax[2])\n",
    "ax[2].set(xticklabels=['No','Yes'])\n",
    "ax[2].set_xlabel('Hormone Therapy')\n",
    "ax[2].set_ylabel('')\n",
    "\n",
    "plt.show()"
   ]
  },
  {
   "cell_type": "markdown",
   "metadata": {},
   "source": [
    "It would appear that the patients with the highest chance of survival were those who were given Chemotherapy."
   ]
  },
  {
   "cell_type": "markdown",
   "metadata": {},
   "source": [
    "Checking correlation between clinical features"
   ]
  },
  {
   "cell_type": "code",
   "execution_count": 177,
   "metadata": {
    "scrolled": false
   },
   "outputs": [
    {
     "data": {
      "application/javascript": [
       "\n",
       "        if (window._pyforest_update_imports_cell) { window._pyforest_update_imports_cell('import matplotlib.pyplot as plt'); }\n",
       "    "
      ],
      "text/plain": [
       "<IPython.core.display.Javascript object>"
      ]
     },
     "metadata": {},
     "output_type": "display_data"
    },
    {
     "data": {
      "application/javascript": [
       "\n",
       "        if (window._pyforest_update_imports_cell) { window._pyforest_update_imports_cell('import matplotlib.pyplot as plt'); }\n",
       "    "
      ],
      "text/plain": [
       "<IPython.core.display.Javascript object>"
      ]
     },
     "metadata": {},
     "output_type": "display_data"
    },
    {
     "data": {
      "image/png": "[encoded data removed]",
      "text/plain": [
       "<Figure size 864x576 with 2 Axes>"
      ]
     },
     "metadata": {
      "needs_background": "light"
     },
     "output_type": "display_data"
    }
   ],
   "source": [
    "## CREATING CORRELATION MATRIX BETWEEN CLINICAL FEATURES\n",
    "\n",
    "fig, ax = plt.subplots(ncols=1, figsize=(12,8), sharey=True)\n",
    "\n",
    "sns.heatmap(clinical_features.corr(), annot=True, cmap='coolwarm')\n",
    "\n",
    "fig.suptitle('Correlation Between Clicnical Features', fontsize = 18)\n",
    "plt.show()"
   ]
  },
  {
   "cell_type": "markdown",
   "metadata": {},
   "source": [
    "By its natures the **corr()** method removes any non-numerical columns fromt the dataframe, however with 31 features in the dataframe makes the visualization too noisy.  For further exploration and analysis, all the categorical features in the clinical_features dataframe will be transformed to numerical, for this purpose, **pd.get_dummies** method will be used, and the correlation between each feature and \"overall_survival\" will be calculated within a pandas dataframe"
   ]
  },
  {
   "cell_type": "code",
   "execution_count": 178,
   "metadata": {},
   "outputs": [
    {
     "data": {
      "text/html": [
       "<div>\n",
       "<style scoped>\n",
       "    .dataframe tbody tr th:only-of-type {\n",
       "        vertical-align: middle;\n",
       "    }\n",
       "\n",
       "    .dataframe tbody tr th {\n",
       "        vertical-align: top;\n",
       "    }\n",
       "\n",
       "    .dataframe thead th {\n",
       "        text-align: right;\n",
       "    }\n",
       "</style>\n",
       "<table border=\"1\" class=\"dataframe\">\n",
       "  <thead>\n",
       "    <tr style=\"text-align: right;\">\n",
       "      <th></th>\n",
       "      <th>age_at_diagnosis</th>\n",
       "      <th>chemotherapy</th>\n",
       "      <th>cohort</th>\n",
       "      <th>neoplasm_histologic_grade</th>\n",
       "      <th>hormone_therapy</th>\n",
       "      <th>lymph_nodes_examined_positive</th>\n",
       "      <th>mutation_count</th>\n",
       "      <th>nottingham_prognostic_index</th>\n",
       "      <th>overall_survival_months</th>\n",
       "      <th>overall_survival</th>\n",
       "      <th>...</th>\n",
       "      <th>pr_status_nan</th>\n",
       "      <th>3-gene_classifier_subtype_ER+/HER2- High Prolif</th>\n",
       "      <th>3-gene_classifier_subtype_ER+/HER2- Low Prolif</th>\n",
       "      <th>3-gene_classifier_subtype_ER-/HER2-</th>\n",
       "      <th>3-gene_classifier_subtype_HER2+</th>\n",
       "      <th>3-gene_classifier_subtype_nan</th>\n",
       "      <th>death_from_cancer_Died of Disease</th>\n",
       "      <th>death_from_cancer_Died of Other Causes</th>\n",
       "      <th>death_from_cancer_Living</th>\n",
       "      <th>death_from_cancer_nan</th>\n",
       "    </tr>\n",
       "  </thead>\n",
       "  <tbody>\n",
       "    <tr>\n",
       "      <th>1</th>\n",
       "      <td>43.19</td>\n",
       "      <td>0</td>\n",
       "      <td>1.00</td>\n",
       "      <td>3.00</td>\n",
       "      <td>1</td>\n",
       "      <td>0.00</td>\n",
       "      <td>2.00</td>\n",
       "      <td>4.02</td>\n",
       "      <td>84.63</td>\n",
       "      <td>1</td>\n",
       "      <td>...</td>\n",
       "      <td>0</td>\n",
       "      <td>1</td>\n",
       "      <td>0</td>\n",
       "      <td>0</td>\n",
       "      <td>0</td>\n",
       "      <td>0</td>\n",
       "      <td>0</td>\n",
       "      <td>0</td>\n",
       "      <td>1</td>\n",
       "      <td>0</td>\n",
       "    </tr>\n",
       "    <tr>\n",
       "      <th>2</th>\n",
       "      <td>48.87</td>\n",
       "      <td>1</td>\n",
       "      <td>1.00</td>\n",
       "      <td>2.00</td>\n",
       "      <td>1</td>\n",
       "      <td>1.00</td>\n",
       "      <td>2.00</td>\n",
       "      <td>4.03</td>\n",
       "      <td>163.70</td>\n",
       "      <td>0</td>\n",
       "      <td>...</td>\n",
       "      <td>0</td>\n",
       "      <td>0</td>\n",
       "      <td>0</td>\n",
       "      <td>0</td>\n",
       "      <td>0</td>\n",
       "      <td>1</td>\n",
       "      <td>1</td>\n",
       "      <td>0</td>\n",
       "      <td>0</td>\n",
       "      <td>0</td>\n",
       "    </tr>\n",
       "    <tr>\n",
       "      <th>3</th>\n",
       "      <td>47.68</td>\n",
       "      <td>1</td>\n",
       "      <td>1.00</td>\n",
       "      <td>2.00</td>\n",
       "      <td>1</td>\n",
       "      <td>3.00</td>\n",
       "      <td>1.00</td>\n",
       "      <td>4.05</td>\n",
       "      <td>164.93</td>\n",
       "      <td>1</td>\n",
       "      <td>...</td>\n",
       "      <td>0</td>\n",
       "      <td>0</td>\n",
       "      <td>0</td>\n",
       "      <td>0</td>\n",
       "      <td>0</td>\n",
       "      <td>1</td>\n",
       "      <td>0</td>\n",
       "      <td>0</td>\n",
       "      <td>1</td>\n",
       "      <td>0</td>\n",
       "    </tr>\n",
       "    <tr>\n",
       "      <th>4</th>\n",
       "      <td>76.97</td>\n",
       "      <td>1</td>\n",
       "      <td>1.00</td>\n",
       "      <td>3.00</td>\n",
       "      <td>1</td>\n",
       "      <td>8.00</td>\n",
       "      <td>2.00</td>\n",
       "      <td>6.08</td>\n",
       "      <td>41.37</td>\n",
       "      <td>0</td>\n",
       "      <td>...</td>\n",
       "      <td>0</td>\n",
       "      <td>1</td>\n",
       "      <td>0</td>\n",
       "      <td>0</td>\n",
       "      <td>0</td>\n",
       "      <td>0</td>\n",
       "      <td>1</td>\n",
       "      <td>0</td>\n",
       "      <td>0</td>\n",
       "      <td>0</td>\n",
       "    </tr>\n",
       "    <tr>\n",
       "      <th>5</th>\n",
       "      <td>78.77</td>\n",
       "      <td>0</td>\n",
       "      <td>1.00</td>\n",
       "      <td>3.00</td>\n",
       "      <td>1</td>\n",
       "      <td>0.00</td>\n",
       "      <td>4.00</td>\n",
       "      <td>4.06</td>\n",
       "      <td>7.80</td>\n",
       "      <td>0</td>\n",
       "      <td>...</td>\n",
       "      <td>0</td>\n",
       "      <td>1</td>\n",
       "      <td>0</td>\n",
       "      <td>0</td>\n",
       "      <td>0</td>\n",
       "      <td>0</td>\n",
       "      <td>1</td>\n",
       "      <td>0</td>\n",
       "      <td>0</td>\n",
       "      <td>0</td>\n",
       "    </tr>\n",
       "  </tbody>\n",
       "</table>\n",
       "<p>5 rows × 98 columns</p>\n",
       "</div>"
      ],
      "text/plain": [
       "   age_at_diagnosis  chemotherapy  cohort  neoplasm_histologic_grade  \\\n",
       "1             43.19             0    1.00                       3.00   \n",
       "2             48.87             1    1.00                       2.00   \n",
       "3             47.68             1    1.00                       2.00   \n",
       "4             76.97             1    1.00                       3.00   \n",
       "5             78.77             0    1.00                       3.00   \n",
       "\n",
       "   hormone_therapy  lymph_nodes_examined_positive  mutation_count  \\\n",
       "1                1                           0.00            2.00   \n",
       "2                1                           1.00            2.00   \n",
       "3                1                           3.00            1.00   \n",
       "4                1                           8.00            2.00   \n",
       "5                1                           0.00            4.00   \n",
       "\n",
       "   nottingham_prognostic_index  overall_survival_months  overall_survival  \\\n",
       "1                         4.02                    84.63                 1   \n",
       "2                         4.03                   163.70                 0   \n",
       "3                         4.05                   164.93                 1   \n",
       "4                         6.08                    41.37                 0   \n",
       "5                         4.06                     7.80                 0   \n",
       "\n",
       "   ...  pr_status_nan  3-gene_classifier_subtype_ER+/HER2- High Prolif  \\\n",
       "1  ...              0                                                1   \n",
       "2  ...              0                                                0   \n",
       "3  ...              0                                                0   \n",
       "4  ...              0                                                1   \n",
       "5  ...              0                                                1   \n",
       "\n",
       "   3-gene_classifier_subtype_ER+/HER2- Low Prolif  \\\n",
       "1                                               0   \n",
       "2                                               0   \n",
       "3                                               0   \n",
       "4                                               0   \n",
       "5                                               0   \n",
       "\n",
       "   3-gene_classifier_subtype_ER-/HER2-  3-gene_classifier_subtype_HER2+  \\\n",
       "1                                    0                                0   \n",
       "2                                    0                                0   \n",
       "3                                    0                                0   \n",
       "4                                    0                                0   \n",
       "5                                    0                                0   \n",
       "\n",
       "   3-gene_classifier_subtype_nan  death_from_cancer_Died of Disease  \\\n",
       "1                              0                                  0   \n",
       "2                              1                                  1   \n",
       "3                              1                                  0   \n",
       "4                              0                                  1   \n",
       "5                              0                                  1   \n",
       "\n",
       "   death_from_cancer_Died of Other Causes  death_from_cancer_Living  \\\n",
       "1                                       0                         1   \n",
       "2                                       0                         0   \n",
       "3                                       0                         1   \n",
       "4                                       0                         0   \n",
       "5                                       0                         0   \n",
       "\n",
       "   death_from_cancer_nan  \n",
       "1                      0  \n",
       "2                      0  \n",
       "3                      0  \n",
       "4                      0  \n",
       "5                      0  \n",
       "\n",
       "[5 rows x 98 columns]"
      ]
     },
     "execution_count": 178,
     "metadata": {},
     "output_type": "execute_result"
    }
   ],
   "source": [
    "## GATHERING COLUMN NAMES FOR CATEGORICAL FEATURES\n",
    "categorical_columns = clinical_features.select_dtypes(include=['object']).columns.tolist()\n",
    "\n",
    "## pd.get_dummies TO CREATE DUMMY VARIABLES FOR THE CATEGORICAL FETURES \n",
    "clinical_df_dummies = pd.get_dummies(clinical_features, columns= categorical_columns, dummy_na=True)\n",
    "clinical_df_dummies.dropna(inplace = True)\n",
    "\n",
    "clinical_df_dummies.head()"
   ]
  },
  {
   "cell_type": "markdown",
   "metadata": {},
   "source": [
    "Checking correlation between clinial fratures to overall survival"
   ]
  },
  {
   "cell_type": "code",
   "execution_count": 179,
   "metadata": {},
   "outputs": [
    {
     "data": {
      "text/html": [
       "<div>\n",
       "<style scoped>\n",
       "    .dataframe tbody tr th:only-of-type {\n",
       "        vertical-align: middle;\n",
       "    }\n",
       "\n",
       "    .dataframe tbody tr th {\n",
       "        vertical-align: top;\n",
       "    }\n",
       "\n",
       "    .dataframe thead th {\n",
       "        text-align: right;\n",
       "    }\n",
       "</style>\n",
       "<table border=\"1\" class=\"dataframe\">\n",
       "  <thead>\n",
       "    <tr style=\"text-align: right;\">\n",
       "      <th></th>\n",
       "      <th>Correlation</th>\n",
       "    </tr>\n",
       "  </thead>\n",
       "  <tbody>\n",
       "    <tr>\n",
       "      <th>death_from_cancer_Living</th>\n",
       "      <td>1.00</td>\n",
       "    </tr>\n",
       "    <tr>\n",
       "      <th>overall_survival</th>\n",
       "      <td>1.00</td>\n",
       "    </tr>\n",
       "    <tr>\n",
       "      <th>overall_survival_months</th>\n",
       "      <td>0.41</td>\n",
       "    </tr>\n",
       "    <tr>\n",
       "      <th>type_of_breast_surgery_BREAST CONSERVING</th>\n",
       "      <td>0.17</td>\n",
       "    </tr>\n",
       "    <tr>\n",
       "      <th>inferred_menopausal_state_Pre</th>\n",
       "      <td>0.17</td>\n",
       "    </tr>\n",
       "    <tr>\n",
       "      <th>3-gene_classifier_subtype_ER+/HER2- Low Prolif</th>\n",
       "      <td>0.13</td>\n",
       "    </tr>\n",
       "    <tr>\n",
       "      <th>radio_therapy</th>\n",
       "      <td>0.10</td>\n",
       "    </tr>\n",
       "    <tr>\n",
       "      <th>pam50_+_claudin-low_subtype_LumA</th>\n",
       "      <td>0.09</td>\n",
       "    </tr>\n",
       "    <tr>\n",
       "      <th>pam50_+_claudin-low_subtype_claudin-low</th>\n",
       "      <td>0.08</td>\n",
       "    </tr>\n",
       "    <tr>\n",
       "      <th>tumor_other_histologic_subtype_Other</th>\n",
       "      <td>0.08</td>\n",
       "    </tr>\n",
       "  </tbody>\n",
       "</table>\n",
       "</div>"
      ],
      "text/plain": [
       "                                                Correlation\n",
       "death_from_cancer_Living                               1.00\n",
       "overall_survival                                       1.00\n",
       "overall_survival_months                                0.41\n",
       "type_of_breast_surgery_BREAST CONSERVING               0.17\n",
       "inferred_menopausal_state_Pre                          0.17\n",
       "3-gene_classifier_subtype_ER+/HER2- Low Prolif         0.13\n",
       "radio_therapy                                          0.10\n",
       "pam50_+_claudin-low_subtype_LumA                       0.09\n",
       "pam50_+_claudin-low_subtype_claudin-low                0.08\n",
       "tumor_other_histologic_subtype_Other                   0.08"
      ]
     },
     "execution_count": 179,
     "metadata": {},
     "output_type": "execute_result"
    }
   ],
   "source": [
    "## sorting correlation scores dataframe by descending order should show us the features with the closest correlation \n",
    "\n",
    "corr_survival = clinical_df_dummies.corr()['overall_survival'].sort_values(ascending = False)\n",
    "\n",
    "corr_df_survival = pd.DataFrame({'Correlation':corr_survival})\n",
    "\n",
    "#Printing top 10 freatures by correlation to overall_survival\n",
    "corr_df_survival.head(10)"
   ]
  },
  {
   "cell_type": "markdown",
   "metadata": {},
   "source": [
    "# Simulations Based on Literature Review"
   ]
  },
  {
   "cell_type": "code",
   "execution_count": 180,
   "metadata": {},
   "outputs": [],
   "source": [
    "## Splitting predictive features from target variable \n",
    "\n",
    "y = clinical_features['overall_survival']\n",
    "x = clinical_features.drop('overall_survival', axis=1)"
   ]
  },
  {
   "cell_type": "code",
   "execution_count": 181,
   "metadata": {},
   "outputs": [],
   "source": [
    "# The following fundtion takes a dataframe and removes all non-numerical features\n",
    "# Using StandardScaler the function stadardizes the features by\n",
    "\n",
    "def to_standard (df):\n",
    "    \n",
    "    num_df = df[df.select_dtypes(include = np.number).columns.tolist()]\n",
    "    \n",
    "    ss = StandardScaler()\n",
    "    std = ss.fit_transform(num_df)\n",
    "    \n",
    "    std_df = pd.DataFrame(std, index = num_df.index, columns = num_df.columns)\n",
    "    return std_df"
   ]
  },
  {
   "cell_type": "code",
   "execution_count": 182,
   "metadata": {},
   "outputs": [],
   "source": [
    "x = to_standard(x)"
   ]
  },
  {
   "cell_type": "code",
   "execution_count": 183,
   "metadata": {},
   "outputs": [],
   "source": [
    "X_train, X_test, Y_train, Y_test = train_test_split(x,y, train_size = 0.8, random_state = 32)"
   ]
  },
  {
   "cell_type": "code",
   "execution_count": 184,
   "metadata": {},
   "outputs": [],
   "source": [
    "X_test.fillna(X_train.mean(), inplace=True)"
   ]
  },
  {
   "cell_type": "code",
   "execution_count": 185,
   "metadata": {},
   "outputs": [],
   "source": [
    "X_train.fillna(X_train.mean(), inplace=True)"
   ]
  },
  {
   "cell_type": "markdown",
   "metadata": {},
   "source": [
    "### Testing Models"
   ]
  },
  {
   "cell_type": "markdown",
   "metadata": {},
   "source": [
    "As a quick method to understand this classification excercise, LazyClassifier is used to run multiple models at once and assess the performance of each of the model based on their accuracy. "
   ]
  },
  {
   "cell_type": "code",
   "execution_count": 186,
   "metadata": {},
   "outputs": [
    {
     "name": "stderr",
     "output_type": "stream",
     "text": [
      "100%|██████████| 29/29 [00:01<00:00, 15.27it/s]\n"
     ]
    }
   ],
   "source": [
    "import lazypredict\n",
    "from lazypredict.Supervised import LazyClassifier\n",
    "\n",
    "clf = LazyClassifier(verbose=0,ignore_warnings=True)\n",
    "classifiers, predictions = clf.fit(X_train, X_test, Y_train, Y_test)"
   ]
  },
  {
   "cell_type": "code",
   "execution_count": 187,
   "metadata": {},
   "outputs": [
    {
     "data": {
      "text/html": [
       "<div>\n",
       "<style scoped>\n",
       "    .dataframe tbody tr th:only-of-type {\n",
       "        vertical-align: middle;\n",
       "    }\n",
       "\n",
       "    .dataframe tbody tr th {\n",
       "        vertical-align: top;\n",
       "    }\n",
       "\n",
       "    .dataframe thead th {\n",
       "        text-align: right;\n",
       "    }\n",
       "</style>\n",
       "<table border=\"1\" class=\"dataframe\">\n",
       "  <thead>\n",
       "    <tr style=\"text-align: right;\">\n",
       "      <th></th>\n",
       "      <th>Accuracy</th>\n",
       "      <th>Balanced Accuracy</th>\n",
       "      <th>ROC AUC</th>\n",
       "      <th>F1 Score</th>\n",
       "      <th>Time Taken</th>\n",
       "    </tr>\n",
       "    <tr>\n",
       "      <th>Model</th>\n",
       "      <th></th>\n",
       "      <th></th>\n",
       "      <th></th>\n",
       "      <th></th>\n",
       "      <th></th>\n",
       "    </tr>\n",
       "  </thead>\n",
       "  <tbody>\n",
       "    <tr>\n",
       "      <th>RandomForestClassifier</th>\n",
       "      <td>0.77</td>\n",
       "      <td>0.76</td>\n",
       "      <td>0.76</td>\n",
       "      <td>0.77</td>\n",
       "      <td>0.26</td>\n",
       "    </tr>\n",
       "    <tr>\n",
       "      <th>AdaBoostClassifier</th>\n",
       "      <td>0.77</td>\n",
       "      <td>0.77</td>\n",
       "      <td>0.77</td>\n",
       "      <td>0.77</td>\n",
       "      <td>0.12</td>\n",
       "    </tr>\n",
       "    <tr>\n",
       "      <th>LGBMClassifier</th>\n",
       "      <td>0.77</td>\n",
       "      <td>0.76</td>\n",
       "      <td>0.76</td>\n",
       "      <td>0.77</td>\n",
       "      <td>0.11</td>\n",
       "    </tr>\n",
       "    <tr>\n",
       "      <th>SVC</th>\n",
       "      <td>0.76</td>\n",
       "      <td>0.75</td>\n",
       "      <td>0.75</td>\n",
       "      <td>0.76</td>\n",
       "      <td>0.06</td>\n",
       "    </tr>\n",
       "    <tr>\n",
       "      <th>NuSVC</th>\n",
       "      <td>0.76</td>\n",
       "      <td>0.75</td>\n",
       "      <td>0.75</td>\n",
       "      <td>0.76</td>\n",
       "      <td>0.09</td>\n",
       "    </tr>\n",
       "    <tr>\n",
       "      <th>KNeighborsClassifier</th>\n",
       "      <td>0.76</td>\n",
       "      <td>0.75</td>\n",
       "      <td>0.75</td>\n",
       "      <td>0.76</td>\n",
       "      <td>0.03</td>\n",
       "    </tr>\n",
       "    <tr>\n",
       "      <th>ExtraTreesClassifier</th>\n",
       "      <td>0.76</td>\n",
       "      <td>0.74</td>\n",
       "      <td>0.74</td>\n",
       "      <td>0.76</td>\n",
       "      <td>0.19</td>\n",
       "    </tr>\n",
       "    <tr>\n",
       "      <th>RidgeClassifierCV</th>\n",
       "      <td>0.76</td>\n",
       "      <td>0.74</td>\n",
       "      <td>0.74</td>\n",
       "      <td>0.75</td>\n",
       "      <td>0.02</td>\n",
       "    </tr>\n",
       "    <tr>\n",
       "      <th>RidgeClassifier</th>\n",
       "      <td>0.76</td>\n",
       "      <td>0.74</td>\n",
       "      <td>0.74</td>\n",
       "      <td>0.75</td>\n",
       "      <td>0.02</td>\n",
       "    </tr>\n",
       "    <tr>\n",
       "      <th>LinearDiscriminantAnalysis</th>\n",
       "      <td>0.76</td>\n",
       "      <td>0.74</td>\n",
       "      <td>0.74</td>\n",
       "      <td>0.75</td>\n",
       "      <td>0.02</td>\n",
       "    </tr>\n",
       "    <tr>\n",
       "      <th>BaggingClassifier</th>\n",
       "      <td>0.75</td>\n",
       "      <td>0.73</td>\n",
       "      <td>0.73</td>\n",
       "      <td>0.75</td>\n",
       "      <td>0.07</td>\n",
       "    </tr>\n",
       "    <tr>\n",
       "      <th>XGBClassifier</th>\n",
       "      <td>0.75</td>\n",
       "      <td>0.74</td>\n",
       "      <td>0.74</td>\n",
       "      <td>0.75</td>\n",
       "      <td>0.17</td>\n",
       "    </tr>\n",
       "    <tr>\n",
       "      <th>CalibratedClassifierCV</th>\n",
       "      <td>0.75</td>\n",
       "      <td>0.73</td>\n",
       "      <td>0.73</td>\n",
       "      <td>0.75</td>\n",
       "      <td>0.28</td>\n",
       "    </tr>\n",
       "    <tr>\n",
       "      <th>LinearSVC</th>\n",
       "      <td>0.75</td>\n",
       "      <td>0.73</td>\n",
       "      <td>0.73</td>\n",
       "      <td>0.75</td>\n",
       "      <td>0.09</td>\n",
       "    </tr>\n",
       "    <tr>\n",
       "      <th>LogisticRegression</th>\n",
       "      <td>0.75</td>\n",
       "      <td>0.73</td>\n",
       "      <td>0.73</td>\n",
       "      <td>0.74</td>\n",
       "      <td>0.02</td>\n",
       "    </tr>\n",
       "    <tr>\n",
       "      <th>LabelSpreading</th>\n",
       "      <td>0.73</td>\n",
       "      <td>0.72</td>\n",
       "      <td>0.72</td>\n",
       "      <td>0.73</td>\n",
       "      <td>0.12</td>\n",
       "    </tr>\n",
       "    <tr>\n",
       "      <th>LabelPropagation</th>\n",
       "      <td>0.73</td>\n",
       "      <td>0.72</td>\n",
       "      <td>0.72</td>\n",
       "      <td>0.73</td>\n",
       "      <td>0.07</td>\n",
       "    </tr>\n",
       "    <tr>\n",
       "      <th>DecisionTreeClassifier</th>\n",
       "      <td>0.72</td>\n",
       "      <td>0.71</td>\n",
       "      <td>0.71</td>\n",
       "      <td>0.72</td>\n",
       "      <td>0.02</td>\n",
       "    </tr>\n",
       "    <tr>\n",
       "      <th>QuadraticDiscriminantAnalysis</th>\n",
       "      <td>0.71</td>\n",
       "      <td>0.73</td>\n",
       "      <td>0.73</td>\n",
       "      <td>0.71</td>\n",
       "      <td>0.02</td>\n",
       "    </tr>\n",
       "    <tr>\n",
       "      <th>GaussianNB</th>\n",
       "      <td>0.69</td>\n",
       "      <td>0.71</td>\n",
       "      <td>0.71</td>\n",
       "      <td>0.69</td>\n",
       "      <td>0.02</td>\n",
       "    </tr>\n",
       "    <tr>\n",
       "      <th>NearestCentroid</th>\n",
       "      <td>0.69</td>\n",
       "      <td>0.69</td>\n",
       "      <td>0.69</td>\n",
       "      <td>0.69</td>\n",
       "      <td>0.02</td>\n",
       "    </tr>\n",
       "    <tr>\n",
       "      <th>BernoulliNB</th>\n",
       "      <td>0.68</td>\n",
       "      <td>0.66</td>\n",
       "      <td>0.66</td>\n",
       "      <td>0.68</td>\n",
       "      <td>0.02</td>\n",
       "    </tr>\n",
       "    <tr>\n",
       "      <th>SGDClassifier</th>\n",
       "      <td>0.67</td>\n",
       "      <td>0.66</td>\n",
       "      <td>0.66</td>\n",
       "      <td>0.67</td>\n",
       "      <td>0.02</td>\n",
       "    </tr>\n",
       "    <tr>\n",
       "      <th>ExtraTreeClassifier</th>\n",
       "      <td>0.66</td>\n",
       "      <td>0.65</td>\n",
       "      <td>0.65</td>\n",
       "      <td>0.67</td>\n",
       "      <td>0.01</td>\n",
       "    </tr>\n",
       "    <tr>\n",
       "      <th>PassiveAggressiveClassifier</th>\n",
       "      <td>0.65</td>\n",
       "      <td>0.67</td>\n",
       "      <td>0.67</td>\n",
       "      <td>0.65</td>\n",
       "      <td>0.01</td>\n",
       "    </tr>\n",
       "    <tr>\n",
       "      <th>Perceptron</th>\n",
       "      <td>0.60</td>\n",
       "      <td>0.62</td>\n",
       "      <td>0.62</td>\n",
       "      <td>0.60</td>\n",
       "      <td>0.01</td>\n",
       "    </tr>\n",
       "    <tr>\n",
       "      <th>DummyClassifier</th>\n",
       "      <td>0.54</td>\n",
       "      <td>0.52</td>\n",
       "      <td>0.52</td>\n",
       "      <td>0.54</td>\n",
       "      <td>0.02</td>\n",
       "    </tr>\n",
       "  </tbody>\n",
       "</table>\n",
       "</div>"
      ],
      "text/plain": [
       "                               Accuracy  Balanced Accuracy  ROC AUC  F1 Score  \\\n",
       "Model                                                                           \n",
       "RandomForestClassifier             0.77               0.76     0.76      0.77   \n",
       "AdaBoostClassifier                 0.77               0.77     0.77      0.77   \n",
       "LGBMClassifier                     0.77               0.76     0.76      0.77   \n",
       "SVC                                0.76               0.75     0.75      0.76   \n",
       "NuSVC                              0.76               0.75     0.75      0.76   \n",
       "KNeighborsClassifier               0.76               0.75     0.75      0.76   \n",
       "ExtraTreesClassifier               0.76               0.74     0.74      0.76   \n",
       "RidgeClassifierCV                  0.76               0.74     0.74      0.75   \n",
       "RidgeClassifier                    0.76               0.74     0.74      0.75   \n",
       "LinearDiscriminantAnalysis         0.76               0.74     0.74      0.75   \n",
       "BaggingClassifier                  0.75               0.73     0.73      0.75   \n",
       "XGBClassifier                      0.75               0.74     0.74      0.75   \n",
       "CalibratedClassifierCV             0.75               0.73     0.73      0.75   \n",
       "LinearSVC                          0.75               0.73     0.73      0.75   \n",
       "LogisticRegression                 0.75               0.73     0.73      0.74   \n",
       "LabelSpreading                     0.73               0.72     0.72      0.73   \n",
       "LabelPropagation                   0.73               0.72     0.72      0.73   \n",
       "DecisionTreeClassifier             0.72               0.71     0.71      0.72   \n",
       "QuadraticDiscriminantAnalysis      0.71               0.73     0.73      0.71   \n",
       "GaussianNB                         0.69               0.71     0.71      0.69   \n",
       "NearestCentroid                    0.69               0.69     0.69      0.69   \n",
       "BernoulliNB                        0.68               0.66     0.66      0.68   \n",
       "SGDClassifier                      0.67               0.66     0.66      0.67   \n",
       "ExtraTreeClassifier                0.66               0.65     0.65      0.67   \n",
       "PassiveAggressiveClassifier        0.65               0.67     0.67      0.65   \n",
       "Perceptron                         0.60               0.62     0.62      0.60   \n",
       "DummyClassifier                    0.54               0.52     0.52      0.54   \n",
       "\n",
       "                               Time Taken  \n",
       "Model                                      \n",
       "RandomForestClassifier               0.26  \n",
       "AdaBoostClassifier                   0.12  \n",
       "LGBMClassifier                       0.11  \n",
       "SVC                                  0.06  \n",
       "NuSVC                                0.09  \n",
       "KNeighborsClassifier                 0.03  \n",
       "ExtraTreesClassifier                 0.19  \n",
       "RidgeClassifierCV                    0.02  \n",
       "RidgeClassifier                      0.02  \n",
       "LinearDiscriminantAnalysis           0.02  \n",
       "BaggingClassifier                    0.07  \n",
       "XGBClassifier                        0.17  \n",
       "CalibratedClassifierCV               0.28  \n",
       "LinearSVC                            0.09  \n",
       "LogisticRegression                   0.02  \n",
       "LabelSpreading                       0.12  \n",
       "LabelPropagation                     0.07  \n",
       "DecisionTreeClassifier               0.02  \n",
       "QuadraticDiscriminantAnalysis        0.02  \n",
       "GaussianNB                           0.02  \n",
       "NearestCentroid                      0.02  \n",
       "BernoulliNB                          0.02  \n",
       "SGDClassifier                        0.02  \n",
       "ExtraTreeClassifier                  0.01  \n",
       "PassiveAggressiveClassifier          0.01  \n",
       "Perceptron                           0.01  \n",
       "DummyClassifier                      0.02  "
      ]
     },
     "execution_count": 187,
     "metadata": {},
     "output_type": "execute_result"
    }
   ],
   "source": [
    "# Models run by LazyClassifier are stored in the dataframe 'models' \n",
    "# Sorting this model in descending order of Accuracy reports the best performing models on this dataset\n",
    "\n",
    "models_sorted = classifiers.sort_values([\"Accuracy\"], ascending=False)\n",
    "models_sorted"
   ]
  },
  {
   "cell_type": "markdown",
   "metadata": {},
   "source": [
    "LazyClassifier has identified several models, and what their baseline accuracy appears to be without any hyper parameter tuning. \n",
    "\n",
    "Here, I'll be selecting KNN, Logistic Regression, XGBoost, LightGBM and Random Forest to find the best model for this application, as they all scored above 70% accuracy"
   ]
  },
  {
   "cell_type": "markdown",
   "metadata": {},
   "source": [
    "### Preprocessing"
   ]
  },
  {
   "cell_type": "code",
   "execution_count": 188,
   "metadata": {},
   "outputs": [],
   "source": [
    "## Setting params for visualizations and text\n",
    "color= \"Spectral\"\n",
    "color_plt = ListedColormap(sns.color_palette(color).as_hex())\n",
    "color_hist = 'teal'\n",
    "two_colors = [ sns.color_palette(color)[0], sns.color_palette(color)[5]]\n",
    "three_colors = [ sns.color_palette(color)[5],sns.color_palette(color)[2], sns.color_palette(color)[0]]\n",
    "BOLD = '\\033[1m'\n",
    "END = '\\033[0m'"
   ]
  },
  {
   "cell_type": "markdown",
   "metadata": {},
   "source": [
    "* Cross validation will be done using StratifiedKFold because we need the distribution of the to classes in all of the folds to be the same, in order to control the experiments"
   ]
  },
  {
   "cell_type": "code",
   "execution_count": 189,
   "metadata": {},
   "outputs": [],
   "source": [
    "# Using a stratfied k fold because we need the distribution of the to classes in all of the folds to be the same.\n",
    "\n",
    "kfold = StratifiedKFold(n_splits=10, shuffle=True, random_state=42)"
   ]
  },
  {
   "cell_type": "markdown",
   "metadata": {},
   "source": [
    "### Modeling"
   ]
  },
  {
   "cell_type": "code",
   "execution_count": 190,
   "metadata": {},
   "outputs": [],
   "source": [
    "def model_metrics(model, kfold, X_train, X_test, Y_train, Y_test):\n",
    "    \n",
    "    model.fit(X_train, Y_train)\n",
    "\n",
    "    results = cross_val_score(model, X_train, Y_train, cv = kfold)\n",
    "    print(\"CV scores: \", results); print(\"CV Standard Deviation: \", results.std()); print();\n",
    "    print('CV Mean score: ', results.mean()); \n",
    "    print('Train score:   ', model.score(X_train, Y_train))\n",
    "    print('Test score:    ', model.score(X_test, Y_test))\n",
    "    \n",
    "    pred = model.predict(X_test)\n",
    "    print()\n",
    "    print('Confusion Matrix: ')\n",
    "    print(confusion_matrix(Y_test, pred))\n",
    "    print('Classification Report:  ')\n",
    "    print(classification_report(Y_test, pred))\n",
    "    train_score =  model.score(X_train, Y_train)\n",
    "    test_score = model.score(X_test, Y_test)\n",
    "    test_pred = model.predict(X_test)\n",
    "    return test_pred, test_score, results.mean()\n",
    "\n",
    "def basic_classifiers (X_train, X_test, Y_train, Y_test, kfold):\n",
    "    BOLD = '\\033[1m'\n",
    "    END = '\\033[0m'\n",
    "    \n",
    "    # Scaling \n",
    "    scaler = StandardScaler()\n",
    "    X_train = scaler.fit_transform(X_train)\n",
    "    X_test = scaler.transform(X_test)\n",
    "    \n",
    "    ### K Nearest Neighbors\n",
    "    \n",
    "    params = {\n",
    "    \"n_neighbors\" : [5,15,25,30,35,40, 100],\n",
    "    \"weights\" : [\"uniform\" , \"distance\"]\n",
    "    }\n",
    "    print(); print(BOLD + 'K Nearest Neighbors:' + END)\n",
    "    knn= GridSearchCV(KNeighborsClassifier(), params, n_jobs=-1, cv=4)\n",
    "    knn_pred, knn_test, knn_train = model_metrics(knn, kfold, X_train, X_test, Y_train, Y_test)\n",
    "    \n",
    "    ### Logistic Regression\n",
    "    \n",
    "    params = {\n",
    "    \"penalty\": [\"l1\", \"l2\"],\n",
    "    \"C\": np.logspace(-2,4,100)\n",
    "    }\n",
    "    print(); print(BOLD + 'Logistic Regression:' + END)\n",
    "    logistic_regression = GridSearchCV(LogisticRegression(random_state=42), params, n_jobs=-1, cv=4)\n",
    "    lg_pred, lg_test, lg_train = model_metrics(logistic_regression, kfold, X_train, X_test, Y_train, Y_test)\n",
    "    \n",
    "    #### XGB Classifier\n",
    "    \n",
    "    print(); print(BOLD + 'XGB Classifier:' + END)\n",
    "    xg_boost = XGBClassifier(random_state=42)\n",
    "    xg_pred, xg_test, xg_train = model_metrics(xg_boost, kfold, X_train, X_test, Y_train, Y_test)\n",
    "    \n",
    "    #### Random Forest Classifier\n",
    "    \n",
    "    print(); print(BOLD + 'Random Forest Classifier:' + END)\n",
    "    random_forest = RandomForestClassifier(random_state=42)\n",
    "    rf_pred, rf_test, rf_train = model_metrics(random_forest, kfold, X_train, X_test, Y_train, Y_test)\n",
    "    \n",
    "     #### LightGBM Classifier\n",
    "    print(); print(BOLD + 'LightGBM Classifier:' + END)\n",
    "    lgbm_boost = lgb.LGBMClassifier()\n",
    "    lgbm_pred, lgbm_test, lgbm_train = model_metrics(lgbm_boost, kfold, X_train, X_test, Y_train, Y_test)\n",
    "\n",
    "    \n",
    "    \n",
    "    fig, (ax1, ax2) = plt.subplots(ncols=2, nrows=1, figsize=(15,6))\n",
    "    \n",
    "    #bar chart of accuracy scores\n",
    "    inds = range(1,6)\n",
    "    labels = ['KNN', 'Logistic Regression','XGB Classifier', 'Random Forest Classifier', 'LightGBM Classifier']\n",
    "    scores_all = [knn_train, lg_train, xg_train, rf_train, lgbm_train]\n",
    "    scores_predictive = [knn_test, lg_test, xg_test, rf_test, lgbm_test]\n",
    "    \n",
    "    ax1.bar(inds, scores_all, color=sns.color_palette(color)[5], alpha=0.3, hatch=\"x\", edgecolor=\"none\",label=\"CrossValidation Set\")\n",
    "    ax1.bar(inds, scores_predictive, color=sns.color_palette(color)[0], label=\"Testing set\")\n",
    "    ax1.set_ylim(0.4, 1)\n",
    "    ax1.set_ylabel(\"Accuracy score\")\n",
    "    ax1.axhline(0.5793, color=\"black\", linestyle=\"--\")\n",
    "    ax1.set_title(\"Accuracy scores for basic models\", fontsize=17)\n",
    "    ax1.set_xticks(range(1,6))\n",
    "    ax1.set_xticklabels(labels, size=12, rotation=40, ha=\"right\")\n",
    "    ax1.legend()\n",
    "\n",
    "    labels = ['KNN', 'Logistic Regression','XGB Classifier', 'Random Forest Classifier', 'LightGBM Classifier']\n",
    "    for label, pred in zip(labels, [knn_pred, lg_pred, xg_pred, rf_pred, lgbm_pred]):\n",
    "        fpr, tpr, threshold = roc_curve(Y_test.values, pred)\n",
    "        roc_auc = auc(fpr, tpr)\n",
    "        ax2.plot(fpr, tpr, label=label+' (area = %0.2f)' % roc_auc, linewidth=2)\n",
    "    ax2.plot([0, 1], [0, 1], 'k--', linewidth=2)\n",
    "    ax2.set_xlim([-0.05, 1.0])\n",
    "    ax2.set_ylim([-0.05, 1.05])\n",
    "    ax2.set_xlabel('False Positive Rate')\n",
    "    ax2.set_ylabel('True Positive Rate')\n",
    "    ax2.legend(loc=\"lower right\", prop={'size': 12})\n",
    "    ax2.set_title(\"Roc Curve for Classifiers\", fontsize=17)\n",
    "\n",
    "    plt.show()\n",
    "    \n",
    "    \n",
    "# the following function takes a dataframe abd plots a histogram for each column\n",
    "def subplot_histograms(dataframe, list_of_columns, list_of_titles, list_of_xlabels, big_title_name):\n",
    "    \n",
    "    nrows = int(np.ceil(len(list_of_columns)/3)) \n",
    "    fig, ax = plt.subplots(ncols=3,nrows=nrows, figsize=(15, 10)) \n",
    "    fig.suptitle(big_title_name, fontsize=15)\n",
    "    ax = ax.ravel() # Ravel turns a matrix into a vector, which is easier to iterate\n",
    "    for i, column in enumerate(list_of_columns): # Gives us an index value to get into all our lists\n",
    "        ax[i].hist(dataframe[column].dropna(), color= color_hist ) \n",
    "        ax[i].set_ylabel('Frequency')\n",
    "        ax[i].set_title(list_of_titles[i]) # Setting titles, labels, etc for each subplot    \n",
    "    plt.show()\n",
    "    \n",
    "    \n",
    "# the following function takes a dataframe abd plots a histogram for each column\n",
    "def subplot_bargraph(dataframe, list_of_columns, list_of_titles, list_of_xlabels, big_title_name):\n",
    "    \n",
    "    nrows = int(np.ceil(len(list_of_columns)/3)) \n",
    "    fig, ax = plt.subplots(ncols=3,nrows=nrows, figsize=(15, 10)) \n",
    "    fig.suptitle(big_title_name, fontsize=20)\n",
    "    ax = ax.ravel() \n",
    "    for i, column in enumerate(list_of_columns): \n",
    "        sns.countplot(dataframe[column].dropna(), color= color_hist, ax=ax[i], hue=dataframe['eventdeath'])\n",
    "        ax[i].set_xlabel('')\n",
    "        ax[i].set_ylabel('Frequency')\n",
    "        ax[i].set_title(list_of_titles[i])  \n",
    "    plt.show()        "
   ]
  },
  {
   "cell_type": "code",
   "execution_count": 191,
   "metadata": {
    "scrolled": false
   },
   "outputs": [
    {
     "name": "stdout",
     "output_type": "stream",
     "text": [
      "\n",
      "\u001b[1mK Nearest Neighbors:\u001b[0m\n",
      "CV scores:  [0.75816993 0.76470588 0.73202614 0.75657895 0.75657895 0.72368421\n",
      " 0.75       0.69078947 0.73684211 0.77631579]\n",
      "CV Standard Deviation:  0.023370390571245427\n",
      "\n",
      "CV Mean score:  0.7445691434468523\n",
      "Train score:    1.0\n",
      "Test score:     0.7821522309711286\n",
      "\n",
      "Confusion Matrix: \n",
      "[[200  33]\n",
      " [ 50  98]]\n",
      "Classification Report:  \n",
      "              precision    recall  f1-score   support\n",
      "\n",
      "           0       0.80      0.86      0.83       233\n",
      "           1       0.75      0.66      0.70       148\n",
      "\n",
      "    accuracy                           0.78       381\n",
      "   macro avg       0.77      0.76      0.77       381\n",
      "weighted avg       0.78      0.78      0.78       381\n",
      "\n",
      "\n",
      "\u001b[1mLogistic Regression:\u001b[0m\n",
      "CV scores:  [0.70588235 0.79084967 0.67973856 0.68421053 0.72368421 0.70394737\n",
      " 0.76973684 0.71052632 0.73026316 0.78289474]\n",
      "CV Standard Deviation:  0.037879622899586414\n",
      "\n",
      "CV Mean score:  0.7281733746130031\n",
      "Train score:    0.7360472751149048\n",
      "Test score:     0.7480314960629921\n",
      "\n",
      "Confusion Matrix: \n",
      "[[189  44]\n",
      " [ 52  96]]\n",
      "Classification Report:  \n",
      "              precision    recall  f1-score   support\n",
      "\n",
      "           0       0.78      0.81      0.80       233\n",
      "           1       0.69      0.65      0.67       148\n",
      "\n",
      "    accuracy                           0.75       381\n",
      "   macro avg       0.73      0.73      0.73       381\n",
      "weighted avg       0.75      0.75      0.75       381\n",
      "\n",
      "\n",
      "\u001b[1mXGB Classifier:\u001b[0m\n",
      "CV scores:  [0.75163399 0.82352941 0.75163399 0.74342105 0.76973684 0.77631579\n",
      " 0.75657895 0.75       0.71052632 0.79605263]\n",
      "CV Standard Deviation:  0.029299102312984226\n",
      "\n",
      "CV Mean score:  0.7629428964568283\n",
      "Train score:    1.0\n",
      "Test score:     0.7506561679790026\n",
      "\n",
      "Confusion Matrix: \n",
      "[[181  52]\n",
      " [ 43 105]]\n",
      "Classification Report:  \n",
      "              precision    recall  f1-score   support\n",
      "\n",
      "           0       0.81      0.78      0.79       233\n",
      "           1       0.67      0.71      0.69       148\n",
      "\n",
      "    accuracy                           0.75       381\n",
      "   macro avg       0.74      0.74      0.74       381\n",
      "weighted avg       0.75      0.75      0.75       381\n",
      "\n",
      "\n",
      "\u001b[1mRandom Forest Classifier:\u001b[0m\n",
      "CV scores:  [0.75163399 0.77124183 0.75816993 0.76315789 0.78947368 0.74342105\n",
      " 0.75       0.73684211 0.72368421 0.80921053]\n",
      "CV Standard Deviation:  0.02393543165946908\n",
      "\n",
      "CV Mean score:  0.7596835225318197\n",
      "Train score:    1.0\n",
      "Test score:     0.7742782152230971\n",
      "\n",
      "Confusion Matrix: \n",
      "[[188  45]\n",
      " [ 41 107]]\n",
      "Classification Report:  \n",
      "              precision    recall  f1-score   support\n",
      "\n",
      "           0       0.82      0.81      0.81       233\n",
      "           1       0.70      0.72      0.71       148\n",
      "\n",
      "    accuracy                           0.77       381\n",
      "   macro avg       0.76      0.76      0.76       381\n",
      "weighted avg       0.78      0.77      0.77       381\n",
      "\n",
      "\n",
      "\u001b[1mLightGBM Classifier:\u001b[0m\n",
      "CV scores:  [0.75816993 0.83006536 0.75816993 0.76315789 0.82236842 0.76973684\n",
      " 0.78289474 0.75       0.71710526 0.77631579]\n",
      "CV Standard Deviation:  0.03162718560216949\n",
      "\n",
      "CV Mean score:  0.7727984176126591\n",
      "Train score:    0.9855548260013132\n",
      "Test score:     0.7690288713910761\n",
      "\n",
      "Confusion Matrix: \n",
      "[[185  48]\n",
      " [ 40 108]]\n",
      "Classification Report:  \n",
      "              precision    recall  f1-score   support\n",
      "\n",
      "           0       0.82      0.79      0.81       233\n",
      "           1       0.69      0.73      0.71       148\n",
      "\n",
      "    accuracy                           0.77       381\n",
      "   macro avg       0.76      0.76      0.76       381\n",
      "weighted avg       0.77      0.77      0.77       381\n",
      "\n"
     ]
    },
    {
     "data": {
      "application/javascript": [
       "\n",
       "        if (window._pyforest_update_imports_cell) { window._pyforest_update_imports_cell('import matplotlib.pyplot as plt'); }\n",
       "    "
      ],
      "text/plain": [
       "<IPython.core.display.Javascript object>"
      ]
     },
     "metadata": {},
     "output_type": "display_data"
    },
    {
     "data": {
      "application/javascript": [
       "\n",
       "        if (window._pyforest_update_imports_cell) { window._pyforest_update_imports_cell('import matplotlib.pyplot as plt'); }\n",
       "    "
      ],
      "text/plain": [
       "<IPython.core.display.Javascript object>"
      ]
     },
     "metadata": {},
     "output_type": "display_data"
    },
    {
     "data": {
      "image/png": "[encoded data removed]",
      "text/plain": [
       "<Figure size 1080x432 with 2 Axes>"
      ]
     },
     "metadata": {
      "needs_background": "light"
     },
     "output_type": "display_data"
    }
   ],
   "source": [
    "basic_classifiers( X_train, X_test, Y_train, Y_test, kfold)"
   ]
  },
  {
   "cell_type": "markdown",
   "metadata": {},
   "source": [
    "### Hyperparameter tuning to find best model params"
   ]
  },
  {
   "cell_type": "markdown",
   "metadata": {},
   "source": [
    "Testing RandomForestClssifier with GridSearch to find best params and accuracy"
   ]
  },
  {
   "cell_type": "code",
   "execution_count": 192,
   "metadata": {},
   "outputs": [],
   "source": [
    "## Setting up Parameters for Random Forest Grid Search\n",
    "\n",
    "rfc=RandomForestClassifier(random_state=42)\n",
    "\n",
    "param_grid = { \n",
    "    'n_estimators': [200, 500],\n",
    "    'max_features': ['auto', 'sqrt', 'log2'],\n",
    "    'max_depth' : [4,5,6,7,8],\n",
    "    'criterion' :['gini', 'entropy']\n",
    "}"
   ]
  },
  {
   "cell_type": "code",
   "execution_count": 193,
   "metadata": {},
   "outputs": [],
   "source": [
    "## Grid Search for Random Forest Classifier\n",
    "\n",
    "gs_rfc = GridSearchCV(estimator=rfc, param_grid=param_grid, cv= kfold)\n",
    "gs_rfc_result = gs_rfc.fit(X_train, Y_train)"
   ]
  },
  {
   "cell_type": "code",
   "execution_count": 194,
   "metadata": {},
   "outputs": [
    {
     "name": "stdout",
     "output_type": "stream",
     "text": [
      "\u001b[1m Random Forest Classifier Best Score = \u001b[0m 0.7741314069487444 \n",
      " \u001b[1mRandom Forest Classifier Best Params:\u001b[0m {'criterion': 'gini', 'max_depth': 6, 'max_features': 'auto', 'n_estimators': 500} \n",
      "\n"
     ]
    }
   ],
   "source": [
    "print(BOLD + ' Random Forest Classifier Best Score = ' + END, gs_rfc_result.best_score_, '\\n',\n",
    "      BOLD + 'Random Forest Classifier Best Params:' + END, gs_rfc_result.best_params_,'\\n')"
   ]
  },
  {
   "cell_type": "markdown",
   "metadata": {},
   "source": [
    "Testing XGBoost with GridSearch to find best params and accuracy"
   ]
  },
  {
   "cell_type": "code",
   "execution_count": 195,
   "metadata": {},
   "outputs": [],
   "source": [
    "## Setting up Parameters for XGBoost Grid Search\n",
    "\n",
    "params = {\n",
    "        'min_child_weight': [1, 5, 10],\n",
    "        'gamma': [0.5, 1, 1.5, 2, 5],\n",
    "        'subsample': [0.6, 0.8, 1.0],\n",
    "        'colsample_bytree': [0.6, 0.8, 1.0],\n",
    "        'max_depth': [3, 4, 5]\n",
    "        }\n",
    "\n",
    "xgb = XGBClassifier(learning_rate=0.02, n_estimators=600, objective='binary:logistic',\n",
    "                    nthread=1)"
   ]
  },
  {
   "cell_type": "code",
   "execution_count": 196,
   "metadata": {},
   "outputs": [],
   "source": [
    "## Grid Search for XGBoost\n",
    "\n",
    "xgb_grid = GridSearchCV(estimator=xgb, param_grid=params, n_jobs=-1,cv=kfold ,scoring='accuracy')\n",
    "xgb_grid_result = xgb_grid.fit(X_train, Y_train)"
   ]
  },
  {
   "cell_type": "code",
   "execution_count": 197,
   "metadata": {},
   "outputs": [
    {
     "name": "stdout",
     "output_type": "stream",
     "text": [
      "\u001b[1m XGBoost Best Score = \u001b[0m 0.7911979704162366 \n",
      " \u001b[1mXGBoost Best Params:\u001b[0m {'colsample_bytree': 1.0, 'gamma': 0.5, 'max_depth': 4, 'min_child_weight': 1, 'subsample': 1.0}\n"
     ]
    }
   ],
   "source": [
    "print(BOLD + ' XGBoost Best Score = ' + END, xgb_grid_result.best_score_, '\\n',\n",
    "      BOLD + 'XGBoost Best Params:' + END, xgb_grid_result.best_params_)"
   ]
  },
  {
   "cell_type": "markdown",
   "metadata": {},
   "source": [
    "Testing LightGBM with GridSearch to find best params and accuracy"
   ]
  },
  {
   "cell_type": "code",
   "execution_count": 198,
   "metadata": {},
   "outputs": [],
   "source": [
    "## Setting up Parameters for LightGBM Grid Search\n",
    "\n",
    "param_grid = {\n",
    "    'n_estimators': [200,400],\n",
    "    'colsample_bytree': [0.7, 0.8],\n",
    "    'max_depth': [15,20,25],\n",
    "    'num_leaves': [50, 100],\n",
    "    'reg_alpha': [1.1, 1.2],\n",
    "    'reg_lambda': [1.1, 1.2],\n",
    "    'min_split_gain': [0.3, 0.4],\n",
    "    'subsample': [0.7, 0.8,0.9],\n",
    "    'subsample_freq': [20]\n",
    "}"
   ]
  },
  {
   "cell_type": "code",
   "execution_count": 199,
   "metadata": {},
   "outputs": [],
   "source": [
    "## Grid Search for LightGBM Classifier\n",
    "\n",
    "lgb_grid = GridSearchCV(estimator=lgbm, param_grid=param_grid, n_jobs=-1,cv=kfold ,scoring='accuracy')\n",
    "lgb_grid_result = lgb_grid.fit(X_train, Y_train)"
   ]
  },
  {
   "cell_type": "code",
   "execution_count": 200,
   "metadata": {},
   "outputs": [
    {
     "name": "stdout",
     "output_type": "stream",
     "text": [
      "\u001b[1m LightGBM Best Score = \u001b[0m 0.7852984176126592 \n",
      " \u001b[1mLightGBM Best Params:\u001b[0m {'colsample_bytree': 0.8, 'max_depth': 15, 'min_split_gain': 0.4, 'n_estimators': 200, 'num_leaves': 50, 'reg_alpha': 1.2, 'reg_lambda': 1.1, 'subsample': 0.7, 'subsample_freq': 20}\n"
     ]
    }
   ],
   "source": [
    "print(BOLD + ' LightGBM Best Score = ' + END, lgb_grid_result.best_score_, '\\n',\n",
    "      BOLD + 'LightGBM Best Params:' + END, lgb_grid_result.best_params_)"
   ]
  },
  {
   "cell_type": "markdown",
   "metadata": {},
   "source": [
    "# Model Evaluation\n",
    "\n",
    "Baseline accuracy using Logistic Regression was evaluated at 72.8%"
   ]
  },
  {
   "cell_type": "markdown",
   "metadata": {},
   "source": [
    "### XGBoost (Acc = 79.1%)"
   ]
  },
  {
   "cell_type": "markdown",
   "metadata": {},
   "source": [
    "XGBoost performed the best of all three models where hyperparameters were tuned. On the first try XGBoost scored an accuracy of 76.2% however after hyperparameter tuning using GridSearch the accuracy improved to 79.1% for a total improvement of 2.9% accuracy. Following parameters were identified as the best parameters for this model:\n",
    "* colsample_bytree = 0.8 \n",
    "* gamma = 0.5 \n",
    "* max_depth = 5 \n",
    "* min_child_weight = 1 \n",
    "* subsample = 1.0"
   ]
  },
  {
   "cell_type": "markdown",
   "metadata": {},
   "source": [
    "### LightGBM (Acc = 78.5%)"
   ]
  },
  {
   "cell_type": "markdown",
   "metadata": {},
   "source": [
    "LightBGM scored very close to XGBoost with an accuracy score of 78.5%. On the first attempt of running this model it scoted an accuracy of 77.2% and after hyperpatameter tuning the scored improved by 1.3%. Following parameters were identified as the best parameters for this model:\n",
    "\n",
    "* colsample_bytree = 0.7\n",
    "* max_depth = 15\n",
    "* min_split_gain = 0.3\n",
    "* n_estimators = 200\n",
    "* num_leaves = 50\n",
    "* reg_alpha = 1.2\n",
    "* reg_lambda = 1.1\n",
    "* subsample = 0.7\n",
    "* subsample_freq = 20"
   ]
  },
  {
   "cell_type": "markdown",
   "metadata": {},
   "source": [
    "### Random Forest Classifier (Acc = 77.4%)"
   ]
  },
  {
   "cell_type": "markdown",
   "metadata": {},
   "source": [
    "Random Forest scored the lowest of all three models after hyperparameter tuning. On the initial run the model scored an accuracy of 75.9% and after hyperpatameter tuning the acuracy imoroved to 77.4% for a total improvement of 1.5%. Following parameters were identified as the best parameters for this model:\n",
    "\n",
    "* criterion = 'gini'\n",
    "* max_depth = 8\n",
    "* max_features = 'auto'\n",
    "* n_estimators = 500"
   ]
  },
  {
   "cell_type": "markdown",
   "metadata": {},
   "source": [
    "# Comments on Genetic features\n",
    "\n",
    "The dataset contains 662 Genetic features, which arguably could be better at predicting survivability. However, currently running GridSearch and Modeling on these features is too resource intensive given the hardware available to me at this time. GridSeacrch takes far too long to run, and therfore the modeling is not scalable, assuming more data is ingested. At this time Genetic Features will not be evaluated using an ML approach in this paper"
   ]
  },
  {
   "cell_type": "markdown",
   "metadata": {},
   "source": [
    "# Conclusion and Recommendations\n",
    "\n",
    "Mahcine learning methods have the potential to improve our understanding of cancer survivability. Most studies referenced in this study place emphasis on the Random Forest Classifier as model of choice, due to its performance and accuracy with non-linear data, and its agility in terms of noise in the data. XGBoost on the other hand performs well/better when data is large with numeric or a combination of numeric and categorical data.\n",
    "\n",
    "In this study the data used meets the criteria for that, by having a large number of numerical and ctegorical data, between clinical and genetic features. However, due to time constraints and hardware limitation, testing could not be performed using Genetic data as parameter tuning takes a very long time. Another shortcoming in this study is the fact that the dataset it not large enough, indicating another dataset with more records will perform better with XGBoost.\n",
    "\n",
    "It would be my recommendation, that given the time and resources XGBoost model be trained on such data, by separating the data into clinical and genetic features and running the model on each and finally training the model with a combination of both i.e. all data which includes genetic and clinical features. My hypothesis is that XGBoost will perform better with Genetic or combination of Genetic and Clinical data. Which in this study I was unable to do."
   ]
  },
  {
   "cell_type": "markdown",
   "metadata": {},
   "source": [
    "# References\n",
    "\n",
    "* Arya, N., & Saha, S. (2021). Multi-modal advanced deep learning architectures for breast cancer survival prediction. Knowledge-Based Systems.\n",
    "\n",
    "* Bellaachia, A., & Guven, E. (2006). Predicting breast cancer survivability using data mining techniques. Age, 10-110.\n",
    "\n",
    "* Chaurasia, V., & Pal, S. (2014). Data mining techniques: to predict and resolve breast cancer survivability. International Journal of Computer Science and Mobile Computing IJCSMC, 10-22.\n",
    "\n",
    "* Delen, D., Walker, G., & Kadam, A. (2004). Predicting breast cancer survivability: a comparison of three data mining methods. Artificial Intelligence in Medicine, 113-127.\n",
    "\n",
    "* Ganggayah, M. D., Taib, N. A., Har, Y. C., Lio, P., & Dhillon, S. K. (2019). Predicting factors for survival of breast cancer patients using machine learning techniques. BMC medical informatics and decision making, 1-17.\n",
    "\n",
    "* Rajendran, K., Jayabalan, M., Thiruchelvam, V., & Sivakumar, V. (2019). Feasibility study on data mining techniques in diagnosis of breast cancer. International Journal of Machine Learning and Computing, 328-333.\n",
    "\n",
    "* U.S. Breast Cancer Statistics. (2022, January 13). Retrieved from breastcancer.org: https://www.breastcancer.org/symptoms/understand_bc/statistics#:~:text=About%201%20in%208%20U.S.,(in%20situ)%20breast%20cancer.\n",
    "Wang, P., Li, Y., & Reddy, C. K. (2019). Machine learning for survival analysis: A survey. ACM Computing Surveys (CSUR), 1-36.\n",
    "\n"
   ]
  }
 ],
 "metadata": {
  "kernelspec": {
   "display_name": "Python 3",
   "language": "python",
   "name": "python3"
  },
  "language_info": {
   "codemirror_mode": {
    "name": "ipython",
    "version": 3
   },
   "file_extension": ".py",
   "mimetype": "text/x-python",
   "name": "python",
   "nbconvert_exporter": "python",
   "pygments_lexer": "ipython3",
   "version": "3.8.5"
  }
 },
 "nbformat": 4,
 "nbformat_minor": 4
}
